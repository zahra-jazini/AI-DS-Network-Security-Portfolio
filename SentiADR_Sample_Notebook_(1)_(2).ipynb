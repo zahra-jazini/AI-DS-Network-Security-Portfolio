{
  "cells": [
    {
      "cell_type": "markdown",
      "metadata": {
        "id": "view-in-github",
        "colab_type": "text"
      },
      "source": [
        "<a href=\"https://colab.research.google.com/github/zahra-jazini/AI-DS-Network-Security-Portfolio/blob/main/SentiADR_Sample_Notebook_(1)_(2).ipynb\" target=\"_parent\"><img src=\"https://colab.research.google.com/assets/colab-badge.svg\" alt=\"Open In Colab\"/></a>"
      ]
    },
    {
      "cell_type": "markdown",
      "id": "55b260c9",
      "metadata": {
        "id": "55b260c9"
      },
      "source": [
        "# 🧠 SentiADR (Sample Implementation)\n",
        "This notebook provides a complete and clean implementation of the SentiADR framework using a small subset of the Drugs.com dataset for demonstration purposes."
      ]
    },
    {
      "cell_type": "code",
      "source": [
        "from google.colab import drive\n",
        "drive.mount('/content/drive')"
      ],
      "metadata": {
        "id": "rC88GqNy4YRN"
      },
      "id": "rC88GqNy4YRN",
      "execution_count": null,
      "outputs": []
    },
    {
      "cell_type": "code",
      "execution_count": null,
      "id": "84fbc585",
      "metadata": {
        "id": "84fbc585"
      },
      "outputs": [],
      "source": [
        "# ✅ Install required packages (Uncomment if using Colab)\n",
        "!pip install pandas numpy scikit-learn nltk gensim matplotlib seaborn spacy\n",
        "!python -m nltk.downloader stopwords\n",
        "!python -m spacy download en_core_web_sm"
      ]
    },
    {
      "cell_type": "code",
      "execution_count": null,
      "id": "xtrBmJwgNQ9j",
      "metadata": {
        "id": "xtrBmJwgNQ9j"
      },
      "outputs": [],
      "source": [
        "!pip install --upgrade --force-reinstall numpy pandas scikit-learn nltk gensim matplotlib seaborn spacy"
      ]
    },
    {
      "cell_type": "code",
      "execution_count": null,
      "id": "lTo5W0l5XF1q",
      "metadata": {
        "id": "lTo5W0l5XF1q"
      },
      "outputs": [],
      "source": [
        "!apt-get install -y graphviz libgraphviz-dev\n",
        "!pip install pygraphviz\n"
      ]
    },
    {
      "cell_type": "code",
      "execution_count": null,
      "id": "QvKfI2-1XN26",
      "metadata": {
        "id": "QvKfI2-1XN26"
      },
      "outputs": [],
      "source": [
        "!pip uninstall -y pandas\n",
        "!pip install --no-cache-dir pandas\n"
      ]
    },
    {
      "cell_type": "code",
      "execution_count": null,
      "id": "DD-_WxHgbE2J",
      "metadata": {
        "id": "DD-_WxHgbE2J"
      },
      "outputs": [],
      "source": [
        "import pandas as pd\n",
        "print(pd.__version__)\n"
      ]
    },
    {
      "cell_type": "code",
      "execution_count": null,
      "id": "528b6bb9",
      "metadata": {
        "id": "528b6bb9"
      },
      "outputs": [],
      "source": [
        "import pandas as pd\n",
        "import numpy as np\n",
        "import nltk\n",
        "import spacy\n",
        "from sklearn.model_selection import train_test_split\n",
        "from sklearn.feature_extraction.text import TfidfVectorizer\n",
        "from sklearn.linear_model import LogisticRegression\n",
        "from sklearn.metrics import classification_report, confusion_matrix\n",
        "from gensim.models import Word2Vec\n",
        "from gensim import corpora, models\n",
        "from nltk.corpus import stopwords\n",
        "from sklearn.preprocessing import StandardScaler\n",
        "import matplotlib.pyplot as plt\n",
        "import seaborn as sns\n",
        "\n",
        "nltk.download('stopwords')\n",
        "nltk.download('punkt')\n",
        "nlp = spacy.load('en_core_web_sm')\n",
        "stop_words = set(stopwords.words('english'))\n"
      ]
    },
    {
      "cell_type": "code",
      "execution_count": null,
      "id": "744cc1fa",
      "metadata": {
        "id": "744cc1fa"
      },
      "outputs": [],
      "source": [
        "\n",
        "# ✅ Simulated sample (normally you'd load real data)\n",
        "data = {\n",
        "    'Reviews': [\n",
        "        \"I had a terrible headache after taking this medication.\",\n",
        "        \"Worked well for my anxiety, no side effects.\",\n",
        "        \"Gave me a rash and nausea. Would not recommend.\",\n",
        "        \"No issues at all. Helped my blood pressure a lot.\",\n",
        "        \"Felt dizzy and tired. Didn't like the experience.\",\n",
        "        \"Cleared up my infection quickly.\",\n",
        "        \"Caused insomnia and chest pain.\",\n",
        "        \"Helped reduce pain but gave me dry mouth.\",\n",
        "        \"No noticeable improvement, but no side effects either.\",\n",
        "        \"The medicine was effective, just some slight fatigue.\"\n",
        "    ] * 10,  # 100 rows total\n",
        "    'Rating': [3, 9, 4, 10, 5, 9, 2, 6, 7, 8] * 10\n",
        "}\n",
        "df = pd.DataFrame(data)\n",
        "df = df[['Reviews', 'Rating']].dropna()\n",
        "df = df.rename(columns={'Reviews': 'review_text', 'Rating': 'rating'})\n"
      ]
    },
    {
      "cell_type": "code",
      "execution_count": null,
      "id": "9818e99d",
      "metadata": {
        "id": "9818e99d"
      },
      "outputs": [],
      "source": [
        "\n",
        "def map_label(rating):\n",
        "    if rating >= 8:\n",
        "        return 0  # Non-ADR\n",
        "    elif rating <= 4:\n",
        "        return 1  # ADR\n",
        "    else:\n",
        "        return np.nan\n",
        "\n",
        "df['label'] = df['rating'].apply(map_label)\n",
        "df = df.dropna(subset=['label'])\n"
      ]
    },
    {
      "cell_type": "code",
      "execution_count": null,
      "id": "3k-orKrkblsq",
      "metadata": {
        "id": "3k-orKrkblsq"
      },
      "outputs": [],
      "source": [
        "import nltk\n",
        "nltk.download('punkt')\n",
        "nltk.download('stopwords')\n",
        "nltk.download('wordnet')\n",
        "nltk.download('averaged_perceptron_tagger')\n"
      ]
    },
    {
      "cell_type": "code",
      "execution_count": null,
      "id": "O5ymDs_0bqTY",
      "metadata": {
        "id": "O5ymDs_0bqTY"
      },
      "outputs": [],
      "source": [
        "!python -m spacy download en_core_web_sm\n"
      ]
    },
    {
      "cell_type": "code",
      "execution_count": null,
      "id": "lLlv7jgJbusR",
      "metadata": {
        "id": "lLlv7jgJbusR"
      },
      "outputs": [],
      "source": [
        "import spacy\n",
        "nlp = spacy.load(\"en_core_web_sm\")\n"
      ]
    },
    {
      "cell_type": "code",
      "execution_count": null,
      "id": "4c-OCBSPdkPo",
      "metadata": {
        "id": "4c-OCBSPdkPo"
      },
      "outputs": [],
      "source": [
        "import nltk\n",
        "\n",
        "# دانلود منابع پرکاربرد برای پردازش متن\n",
        "nltk.download('punkt')              # برای tokenization\n",
        "nltk.download('stopwords')         # برای حذف stopwordها\n",
        "nltk.download('wordnet')           # برای lemmatization\n",
        "nltk.download('omw-1.4')           # پشتیبانی زبانی برای lemmatizer\n",
        "nltk.download('averaged_perceptron_tagger')\n"
      ]
    },
    {
      "cell_type": "code",
      "execution_count": null,
      "id": "4PFAjUo2d6SW",
      "metadata": {
        "id": "4PFAjUo2d6SW"
      },
      "outputs": [],
      "source": [
        "import nltk\n",
        "\n",
        "nltk.download('punkt')          # برای word_tokenize\n",
        "nltk.download('stopwords')      # برای stop_words\n",
        "nltk.download('wordnet')        # برای WordNetLemmatizer\n",
        "nltk.download('omw-1.4')        # برای پشتیبانی از زبان‌ها در Lemmatizer\n"
      ]
    },
    {
      "cell_type": "code",
      "execution_count": null,
      "id": "YLfig0dKd-eh",
      "metadata": {
        "id": "YLfig0dKd-eh"
      },
      "outputs": [],
      "source": [
        "from nltk.corpus import stopwords\n",
        "stop_words = set(stopwords.words('english'))\n"
      ]
    },
    {
      "cell_type": "code",
      "execution_count": null,
      "id": "5P2kuUwveJvQ",
      "metadata": {
        "id": "5P2kuUwveJvQ"
      },
      "outputs": [],
      "source": [
        "import shutil\n",
        "shutil.rmtree('/root/nltk_data/tokenizers/punkt', ignore_errors=True)\n"
      ]
    },
    {
      "cell_type": "code",
      "execution_count": null,
      "id": "zBfxPWHLeNDB",
      "metadata": {
        "id": "zBfxPWHLeNDB"
      },
      "outputs": [],
      "source": [
        "import nltk\n",
        "\n",
        "nltk.download('punkt')\n",
        "nltk.download('punkt_tab')\n",
        "nltk.download('wordnet')\n",
        "nltk.download('stopwords')\n",
        "nltk.download('omw-1.4')\n"
      ]
    },
    {
      "cell_type": "code",
      "execution_count": null,
      "id": "F9QW-15KeBEg",
      "metadata": {
        "id": "F9QW-15KeBEg"
      },
      "outputs": [],
      "source": [
        "import nltk\n",
        "from nltk.tokenize import word_tokenize\n",
        "from nltk.stem import WordNetLemmatizer\n",
        "from nltk.corpus import stopwords\n",
        "\n",
        "# دانلود منابع لازم\n",
        "nltk.download('punkt')\n",
        "nltk.download('stopwords')\n",
        "nltk.download('wordnet')\n",
        "nltk.download('omw-1.4')\n",
        "\n",
        "# تعریف ابزارها\n",
        "lemmatizer = WordNetLemmatizer()\n",
        "stop_words = set(stopwords.words('english'))\n",
        "\n",
        "# تابع تمیز کردن متن\n",
        "def clean_text(text):\n",
        "    tokens = word_tokenize(text.lower())\n",
        "    tokens = [lemmatizer.lemmatize(t) for t in tokens if t.isalpha() and t not in stop_words]\n",
        "    return ' '.join(tokens)\n",
        "\n",
        "# اعمال بر دیتافریم\n",
        "df['clean_text'] = df['review_text'].astype(str).apply(clean_text)\n",
        "df[['review_text', 'clean_text']].head()\n"
      ]
    },
    {
      "cell_type": "code",
      "execution_count": null,
      "id": "d350dc61",
      "metadata": {
        "id": "d350dc61"
      },
      "outputs": [],
      "source": [
        "# TF-IDF\n",
        "tfidf = TfidfVectorizer(max_features=500, ngram_range=(1, 2))\n",
        "X_tfidf = tfidf.fit_transform(df['clean_text'])\n",
        "\n",
        "# Word2Vec\n",
        "tokenized = [text.split() for text in df['clean_text']]\n",
        "w2v_model = Word2Vec(sentences=tokenized, vector_size=50, window=3, min_count=1)\n",
        "X_w2v = np.array([np.mean([w2v_model.wv[word] for word in words if word in w2v_model.wv]\n",
        "                          or [np.zeros(50)], axis=0) for words in tokenized])\n",
        "\n",
        "# LDA\n",
        "dictionary = corpora.Dictionary(tokenized)\n",
        "corpus = [dictionary.doc2bow(text) for text in tokenized]\n",
        "lda_model = models.LdaModel(corpus=corpus, id2word=dictionary, num_topics=5, passes=3)\n",
        "X_lda = np.array([np.array([prob for _, prob in lda_model[doc]]) for doc in corpus])\n"
      ]
    },
    {
      "cell_type": "code",
      "execution_count": null,
      "id": "e9db18a3",
      "metadata": {
        "id": "e9db18a3"
      },
      "outputs": [],
      "source": [
        "\n",
        "X_combined = np.hstack([X_tfidf.toarray(), X_w2v, X_lda])\n",
        "scaler = StandardScaler()\n",
        "X_scaled = scaler.fit_transform(X_combined)\n"
      ]
    },
    {
      "cell_type": "code",
      "execution_count": null,
      "id": "bc26f07c",
      "metadata": {
        "id": "bc26f07c"
      },
      "outputs": [],
      "source": [
        "\n",
        "X_train, X_test, y_train, y_test = train_test_split(X_scaled, df['label'], test_size=0.2, random_state=42)\n",
        "model = LogisticRegression(max_iter=500, class_weight='balanced')\n",
        "model.fit(X_train, y_train)\n"
      ]
    },
    {
      "cell_type": "code",
      "execution_count": null,
      "id": "6f739ba8",
      "metadata": {
        "id": "6f739ba8"
      },
      "outputs": [],
      "source": [
        "y_pred = model.predict(X_test)\n",
        "print(\"Classification Report:\\n\", classification_report(y_test, y_pred))\n",
        "conf_mat = confusion_matrix(y_test, y_pred)\n",
        "sns.heatmap(conf_mat, annot=True, fmt='d', cmap='Blues')\n",
        "plt.title(\"Confusion Matrix\")\n",
        "plt.xlabel(\"Predicted\")\n",
        "plt.ylabel(\"Actual\")\n",
        "plt.show()\n"
      ]
    },
    {
      "cell_type": "code",
      "execution_count": null,
      "id": "Iikdg7wMmqDH",
      "metadata": {
        "id": "Iikdg7wMmqDH"
      },
      "outputs": [],
      "source": [
        "print(\"Data size:\", df.shape)"
      ]
    },
    {
      "cell_type": "code",
      "source": [
        "pip install scikit-learn"
      ],
      "metadata": {
        "id": "kGC0tShqnBgg"
      },
      "id": "kGC0tShqnBgg",
      "execution_count": null,
      "outputs": []
    },
    {
      "cell_type": "code",
      "source": [
        "import pandas as pd\n",
        "\n",
        "# Load the dataset\n",
        "file_path = '/content/drive/MyDrive/DrugReviews.csv'  # Replace with actual path if needed\n",
        "df = pd.read_csv(file_path)\n",
        "\n",
        "# Display basic info and first few rows\n",
        "df.info(), df.head()"
      ],
      "metadata": {
        "id": "iLnKeC_coF2O"
      },
      "id": "iLnKeC_coF2O",
      "execution_count": null,
      "outputs": []
    },
    {
      "cell_type": "code",
      "source": [
        "from sklearn.feature_extraction.text import TfidfVectorizer\n",
        "from sklearn.ensemble import RandomForestClassifier\n",
        "from sklearn.model_selection import cross_val_score\n",
        "from sklearn.metrics import make_scorer, precision_score, recall_score, f1_score\n",
        "from sklearn.datasets import load_iris\n",
        "from sklearn.model_selection import StratifiedKFold\n",
        "import numpy as np\n",
        "\n",
        "# 1. بارگذاری دیتای اصلی\n",
        "df = pd.read_csv('/content/drive/MyDrive/DrugReviews.csv')\n",
        "\n",
        "# 2. ساخت برچسب دودویی از روی ستون Rating\n",
        "def map_rating_to_label(x):\n",
        "    if x < 5:\n",
        "        return -1\n",
        "    elif x < 8:\n",
        "        return 0\n",
        "    else:\n",
        "        return 1\n",
        "\n",
        "df['label'] = df['Rating'].apply(map_rating_to_label)\n",
        "df = df[df['label'] != 0]  # حذف خنثی‌ها\n",
        "df['label'] = df['label'].map({-1: 0, 1: 1})  # باینری‌سازی\n",
        "\n",
        "# 3. تبدیل متن به ویژگی عددی با TF-IDF\n",
        "vectorizer = TfidfVectorizer(max_features=5000)\n",
        "X = vectorizer.fit_transform(df['Reviews'])  # X: ویژگی‌ها\n",
        "y = df['label'].values                        # y: برچسب‌ها\n"
      ],
      "metadata": {
        "id": "vakgLNzPCvsz"
      },
      "id": "vakgLNzPCvsz",
      "execution_count": null,
      "outputs": []
    },
    {
      "cell_type": "markdown",
      "source": [
        "Overall Performance on Stratified 10-Fold Cross-Validation"
      ],
      "metadata": {
        "id": "2gsYw9pC0fns"
      },
      "id": "2gsYw9pC0fns"
    },
    {
      "cell_type": "code",
      "source": [
        "import pandas as pd\n",
        "data = {\n",
        "    \"Classifier\": [\n",
        "        \"Naïve Bayes\", \"Decision Tree\", \"K-Nearest Neighbors\", \"SVM\",\n",
        "        \"Random Forest\", \"Neural Network (DNN)\", \"Generalized Linear Model\", \"SentiADR (Proposed)\"\n",
        "    ],\n",
        "    \"Precision\": [0.4621, 0.5515, 0.4182, 0.7181, 0.75, 0.74, 0.7319, 0.78],\n",
        "    \"Recall\": [0.4584, 0.4176, 0.3966, 0.6764, 0.76, 0.75, 0.6884, 0.78]\n",
        "}\n",
        "\n",
        "df = pd.DataFrame(data)\n",
        "\n",
        "# Calculate F1-score using the harmonic mean formula\n",
        "df[\"F1_Calculated\"] = 2 * (df[\"Precision\"] * df[\"Recall\"]) / (df[\"Precision\"] + df[\"Recall\"])\n",
        "\n",
        "# Round for clarity\n",
        "df[\"F1_Calculated\"] = df[\"F1_Calculated\"].round(4)\n",
        "\n",
        "df[[\"Classifier\", \"Precision\", \"Recall\", \"F1_Calculated\"]]\n"
      ],
      "metadata": {
        "id": "OaWBl3sDy36_"
      },
      "id": "OaWBl3sDy36_",
      "execution_count": null,
      "outputs": []
    },
    {
      "cell_type": "code",
      "source": [
        "import pandas as pd\n",
        "\n",
        "df = pd.read_csv('/content/drive/MyDrive/DrugReviews.csv')\n",
        "print(df.columns)\n"
      ],
      "metadata": {
        "id": "beeH3jtx7FsA"
      },
      "id": "beeH3jtx7FsA",
      "execution_count": null,
      "outputs": []
    },
    {
      "cell_type": "markdown",
      "source": [
        " کد کامل محاسبه AUC برای چند مدل"
      ],
      "metadata": {
        "id": "o6IMFwwr30Xc"
      },
      "id": "o6IMFwwr30Xc"
    },
    {
      "cell_type": "code",
      "source": [
        "import pandas as pd\n",
        "from sklearn.model_selection import train_test_split\n",
        "from sklearn.feature_extraction.text import TfidfVectorizer\n",
        "from sklearn.naive_bayes import MultinomialNB\n",
        "from sklearn.tree import DecisionTreeClassifier\n",
        "from sklearn.ensemble import RandomForestClassifier\n",
        "from sklearn.linear_model import LogisticRegression\n",
        "from sklearn.neighbors import KNeighborsClassifier\n",
        "from sklearn.svm import SVC\n",
        "from sklearn.metrics import roc_auc_score\n",
        "\n",
        "# 1. بارگذاری داده\n",
        "df = pd.read_csv('/content/drive/MyDrive/DrugReviews.csv')\n",
        "\n",
        "# 2. ساخت برچسب\n",
        "def map_rating_to_label(x):\n",
        "    if x < 5:\n",
        "        return -1\n",
        "    elif x < 8:\n",
        "        return 0\n",
        "    else:\n",
        "        return 1\n",
        "\n",
        "df['label'] = df['Rating'].apply(map_rating_to_label)\n",
        "\n",
        "# 3. حذف کلاس خنثی (0) و باینری‌سازی برچسب\n",
        "df = df[df['label'] != 0]\n",
        "df['label'] = df['label'].map({-1: 0, 1: 1})\n",
        "\n",
        "# 4. تقسیم داده\n",
        "X_train, X_test, y_train, y_test = train_test_split(df['Reviews'], df['label'], test_size=0.2, random_state=42)\n",
        "\n",
        "# 5. بردارسازی متن با TF-IDF\n",
        "vectorizer = TfidfVectorizer(max_features=5000)\n",
        "X_train_vec = vectorizer.fit_transform(X_train)\n",
        "X_test_vec = vectorizer.transform(X_test)\n",
        "\n",
        "# 6. تعریف مدل‌ها\n",
        "models = {\n",
        "    \"Naive Bayes\": MultinomialNB(),\n",
        "    \"Decision Tree\": DecisionTreeClassifier(),\n",
        "    \"Random Forest\": RandomForestClassifier(n_estimators=100),\n",
        "    \"Logistic Regression (GLM)\": LogisticRegression(max_iter=1000),\n",
        "    \"KNN\": KNeighborsClassifier(),\n",
        "    \"SVM\": SVC(probability=True)  # ضروری برای محاسبه AUC\n",
        "}\n",
        "\n",
        "# 7. آموزش و محاسبه AUC\n",
        "for name, model in models.items():\n",
        "    model.fit(X_train_vec, y_train)\n",
        "    y_scores = model.predict_proba(X_test_vec)[:, 1]\n",
        "    auc = roc_auc_score(y_test, y_scores)\n",
        "    print(f\"{name} AUC: {auc:.4f}\")\n"
      ],
      "metadata": {
        "colab": {
          "base_uri": "https://localhost:8080/"
        },
        "id": "xtIaGkQ47wlM",
        "outputId": "c4fa7fad-e694-430d-f898-7cc3a97e542e"
      },
      "id": "xtIaGkQ47wlM",
      "execution_count": null,
      "outputs": [
        {
          "output_type": "stream",
          "name": "stderr",
          "text": [
            "<ipython-input-14-974dc0276d91>:28: SettingWithCopyWarning: \n",
            "A value is trying to be set on a copy of a slice from a DataFrame.\n",
            "Try using .loc[row_indexer,col_indexer] = value instead\n",
            "\n",
            "See the caveats in the documentation: https://pandas.pydata.org/pandas-docs/stable/user_guide/indexing.html#returning-a-view-versus-a-copy\n",
            "  df['label'] = df['label'].map({-1: 0, 1: 1})\n"
          ]
        },
        {
          "output_type": "stream",
          "name": "stdout",
          "text": [
            "Naive Bayes AUC: 0.8625\n"
          ]
        }
      ]
    },
    {
      "cell_type": "code",
      "source": [
        "# Reinstall and import after environment reset\n",
        "!pip install -q gensim scikit-learn pandas\n",
        "\n",
        "import pandas as pd\n",
        "import numpy as np\n",
        "from gensim.models import Word2Vec\n",
        "from sklearn.feature_extraction.text import TfidfVectorizer\n",
        "from sklearn.linear_model import LogisticRegression\n",
        "from sklearn.svm import SVC\n",
        "from sklearn.neural_network import MLPClassifier\n",
        "from sklearn.model_selection import StratifiedKFold, cross_val_score\n",
        "from sklearn.feature_selection import SelectKBest, mutual_info_classif\n",
        "from sklearn.metrics import make_scorer, accuracy_score, precision_score, recall_score, f1_score, roc_auc_score"
      ],
      "metadata": {
        "id": "k-7QyyC74slU"
      },
      "id": "k-7QyyC74slU",
      "execution_count": null,
      "outputs": []
    },
    {
      "cell_type": "markdown",
      "id": "MFjRh74BkVNv",
      "metadata": {
        "id": "MFjRh74BkVNv"
      },
      "source": [
        "✅ adr_booster.py – Rule-Based ADR Booster Module"
      ]
    },
    {
      "cell_type": "code",
      "execution_count": 11,
      "id": "jv2co0kZfXM6",
      "metadata": {
        "id": "jv2co0kZfXM6"
      },
      "outputs": [],
      "source": [
        "# Save the module to current directory\n",
        "booster_code = \"\"\"\n",
        "import re\n",
        "\n",
        "class ADRBooster:\n",
        "    def __init__(self, adr_keywords=None, contrast_patterns=None):\n",
        "        self.adr_keywords = adr_keywords or [\n",
        "            'headache', 'rash', 'nausea', 'dizzy', 'insomnia', 'fatigue',\n",
        "            'pain', 'tired', 'vomit', 'hallucination', 'depression', 'anxiety',\n",
        "            'swelling', 'infection', 'bleeding', 'dry mouth', 'chest pain'\n",
        "        ]\n",
        "        self.contrast_patterns = contrast_patterns or [\n",
        "            r\"(but|however|although|though|yet).*\",\n",
        "            r\"(while|even though).*\",\n",
        "        ]\n",
        "\n",
        "    def detect_contrastive_adr(self, text):\n",
        "        text = text.lower()\n",
        "        for pattern in self.contrast_patterns:\n",
        "            match = re.search(pattern, text)\n",
        "            if match:\n",
        "                tail = text[match.start():]\n",
        "                for word in self.adr_keywords:\n",
        "                    if word in tail:\n",
        "                        return True\n",
        "        return False\n",
        "\n",
        "    def apply_boosting(self, texts, preds):\n",
        "        new_preds = []\n",
        "        for text, pred in zip(texts, preds):\n",
        "            if pred == 0 and self.detect_contrastive_adr(text):\n",
        "                new_preds.append(1)  # flip to ADR\n",
        "            else:\n",
        "                new_preds.append(pred)\n",
        "        return new_preds\n",
        "\"\"\"\n",
        "\n",
        "with open(\"adr_booster.py\", \"w\") as f:\n",
        "    f.write(booster_code)\n"
      ]
    },
    {
      "cell_type": "code",
      "execution_count": 12,
      "id": "rji7JGvhkXDv",
      "metadata": {
        "id": "rji7JGvhkXDv"
      },
      "outputs": [],
      "source": [
        "import re\n",
        "\n",
        "class ADRBooster:\n",
        "    \"\"\"A rule-based module to boost ADR detection by correcting contrastive sentiment expressions.\"\"\"\n",
        "\n",
        "    def __init__(self, adr_keywords=None, contrast_patterns=None):\n",
        "        self.adr_keywords = adr_keywords or [\n",
        "            'headache', 'rash', 'nausea', 'dizzy', 'insomnia', 'fatigue',\n",
        "            'pain', 'tired', 'vomit', 'hallucination', 'depression', 'anxiety',\n",
        "            'swelling', 'infection', 'bleeding', 'dry mouth', 'chest pain'\n",
        "        ]\n",
        "        self.contrast_patterns = contrast_patterns or [\n",
        "            r\"(but|however|although|though|yet).*\",\n",
        "            r\"(while|even though).*\",\n",
        "        ]\n",
        "\n",
        "    def detect_contrastive_adr(self, text):\n",
        "        \"\"\"Detects contrastive patterns like 'worked well but caused insomnia'.\"\"\"\n",
        "        text = text.lower()\n",
        "        for pattern in self.contrast_patterns:\n",
        "            match = re.search(pattern, text)\n",
        "            if match:\n",
        "                tail = text[match.start():]\n",
        "                for word in self.adr_keywords:\n",
        "                    if word in tail:\n",
        "                        return True\n",
        "        return False\n",
        "\n",
        "    def apply_boosting(self, texts, preds):\n",
        "        \"\"\"Boost prediction if ADR likely exists in contrastive clause.\"\"\"\n",
        "        new_preds = []\n",
        "        for text, pred in zip(texts, preds):\n",
        "            if pred == 0 and self.detect_contrastive_adr(text):\n",
        "                new_preds.append(1)  # flip prediction to ADR\n",
        "            else:\n",
        "                new_preds.append(pred)\n",
        "        return new_preds\n"
      ]
    },
    {
      "cell_type": "code",
      "execution_count": 13,
      "id": "B_DNQo4AnVXJ",
      "metadata": {
        "colab": {
          "base_uri": "https://localhost:8080/",
          "height": 351
        },
        "id": "B_DNQo4AnVXJ",
        "outputId": "57e410d8-9437-433e-d571-d0139b3de056"
      },
      "outputs": [
        {
          "output_type": "error",
          "ename": "FileNotFoundError",
          "evalue": "[Errno 2] No such file or directory: 'content/drive/MyDrive/DrugReviews.csv'",
          "traceback": [
            "\u001b[0;31m---------------------------------------------------------------------------\u001b[0m",
            "\u001b[0;31mFileNotFoundError\u001b[0m                         Traceback (most recent call last)",
            "\u001b[0;32m<ipython-input-13-4695859df5ce>\u001b[0m in \u001b[0;36m<cell line: 0>\u001b[0;34m()\u001b[0m\n\u001b[0;32m----> 1\u001b[0;31m \u001b[0mdf\u001b[0m \u001b[0;34m=\u001b[0m \u001b[0mpd\u001b[0m\u001b[0;34m.\u001b[0m\u001b[0mread_csv\u001b[0m\u001b[0;34m(\u001b[0m\u001b[0;34m'content/drive/MyDrive/DrugReviews.csv'\u001b[0m\u001b[0;34m)\u001b[0m\u001b[0;34m\u001b[0m\u001b[0;34m\u001b[0m\u001b[0m\n\u001b[0m\u001b[1;32m      2\u001b[0m \u001b[0mdf\u001b[0m \u001b[0;34m=\u001b[0m \u001b[0mdf\u001b[0m\u001b[0;34m[\u001b[0m\u001b[0;34m[\u001b[0m\u001b[0;34m'Reviews'\u001b[0m\u001b[0;34m,\u001b[0m \u001b[0;34m'Rating'\u001b[0m\u001b[0;34m]\u001b[0m\u001b[0;34m]\u001b[0m\u001b[0;34m.\u001b[0m\u001b[0mdropna\u001b[0m\u001b[0;34m(\u001b[0m\u001b[0;34m)\u001b[0m\u001b[0;34m\u001b[0m\u001b[0;34m\u001b[0m\u001b[0m\n\u001b[1;32m      3\u001b[0m \u001b[0mdf\u001b[0m \u001b[0;34m=\u001b[0m \u001b[0mdf\u001b[0m\u001b[0;34m.\u001b[0m\u001b[0mrename\u001b[0m\u001b[0;34m(\u001b[0m\u001b[0mcolumns\u001b[0m\u001b[0;34m=\u001b[0m\u001b[0;34m{\u001b[0m\u001b[0;34m'Reviews'\u001b[0m\u001b[0;34m:\u001b[0m \u001b[0;34m'review_text'\u001b[0m\u001b[0;34m,\u001b[0m \u001b[0;34m'Rating'\u001b[0m\u001b[0;34m:\u001b[0m \u001b[0;34m'rating'\u001b[0m\u001b[0;34m}\u001b[0m\u001b[0;34m)\u001b[0m\u001b[0;34m\u001b[0m\u001b[0;34m\u001b[0m\u001b[0m\n",
            "\u001b[0;32m/usr/local/lib/python3.11/dist-packages/pandas/io/parsers/readers.py\u001b[0m in \u001b[0;36mread_csv\u001b[0;34m(filepath_or_buffer, sep, delimiter, header, names, index_col, usecols, dtype, engine, converters, true_values, false_values, skipinitialspace, skiprows, skipfooter, nrows, na_values, keep_default_na, na_filter, verbose, skip_blank_lines, parse_dates, infer_datetime_format, keep_date_col, date_parser, date_format, dayfirst, cache_dates, iterator, chunksize, compression, thousands, decimal, lineterminator, quotechar, quoting, doublequote, escapechar, comment, encoding, encoding_errors, dialect, on_bad_lines, delim_whitespace, low_memory, memory_map, float_precision, storage_options, dtype_backend)\u001b[0m\n\u001b[1;32m   1024\u001b[0m     \u001b[0mkwds\u001b[0m\u001b[0;34m.\u001b[0m\u001b[0mupdate\u001b[0m\u001b[0;34m(\u001b[0m\u001b[0mkwds_defaults\u001b[0m\u001b[0;34m)\u001b[0m\u001b[0;34m\u001b[0m\u001b[0;34m\u001b[0m\u001b[0m\n\u001b[1;32m   1025\u001b[0m \u001b[0;34m\u001b[0m\u001b[0m\n\u001b[0;32m-> 1026\u001b[0;31m     \u001b[0;32mreturn\u001b[0m \u001b[0m_read\u001b[0m\u001b[0;34m(\u001b[0m\u001b[0mfilepath_or_buffer\u001b[0m\u001b[0;34m,\u001b[0m \u001b[0mkwds\u001b[0m\u001b[0;34m)\u001b[0m\u001b[0;34m\u001b[0m\u001b[0;34m\u001b[0m\u001b[0m\n\u001b[0m\u001b[1;32m   1027\u001b[0m \u001b[0;34m\u001b[0m\u001b[0m\n\u001b[1;32m   1028\u001b[0m \u001b[0;34m\u001b[0m\u001b[0m\n",
            "\u001b[0;32m/usr/local/lib/python3.11/dist-packages/pandas/io/parsers/readers.py\u001b[0m in \u001b[0;36m_read\u001b[0;34m(filepath_or_buffer, kwds)\u001b[0m\n\u001b[1;32m    618\u001b[0m \u001b[0;34m\u001b[0m\u001b[0m\n\u001b[1;32m    619\u001b[0m     \u001b[0;31m# Create the parser.\u001b[0m\u001b[0;34m\u001b[0m\u001b[0;34m\u001b[0m\u001b[0m\n\u001b[0;32m--> 620\u001b[0;31m     \u001b[0mparser\u001b[0m \u001b[0;34m=\u001b[0m \u001b[0mTextFileReader\u001b[0m\u001b[0;34m(\u001b[0m\u001b[0mfilepath_or_buffer\u001b[0m\u001b[0;34m,\u001b[0m \u001b[0;34m**\u001b[0m\u001b[0mkwds\u001b[0m\u001b[0;34m)\u001b[0m\u001b[0;34m\u001b[0m\u001b[0;34m\u001b[0m\u001b[0m\n\u001b[0m\u001b[1;32m    621\u001b[0m \u001b[0;34m\u001b[0m\u001b[0m\n\u001b[1;32m    622\u001b[0m     \u001b[0;32mif\u001b[0m \u001b[0mchunksize\u001b[0m \u001b[0;32mor\u001b[0m \u001b[0miterator\u001b[0m\u001b[0;34m:\u001b[0m\u001b[0;34m\u001b[0m\u001b[0;34m\u001b[0m\u001b[0m\n",
            "\u001b[0;32m/usr/local/lib/python3.11/dist-packages/pandas/io/parsers/readers.py\u001b[0m in \u001b[0;36m__init__\u001b[0;34m(self, f, engine, **kwds)\u001b[0m\n\u001b[1;32m   1618\u001b[0m \u001b[0;34m\u001b[0m\u001b[0m\n\u001b[1;32m   1619\u001b[0m         \u001b[0mself\u001b[0m\u001b[0;34m.\u001b[0m\u001b[0mhandles\u001b[0m\u001b[0;34m:\u001b[0m \u001b[0mIOHandles\u001b[0m \u001b[0;34m|\u001b[0m \u001b[0;32mNone\u001b[0m \u001b[0;34m=\u001b[0m \u001b[0;32mNone\u001b[0m\u001b[0;34m\u001b[0m\u001b[0;34m\u001b[0m\u001b[0m\n\u001b[0;32m-> 1620\u001b[0;31m         \u001b[0mself\u001b[0m\u001b[0;34m.\u001b[0m\u001b[0m_engine\u001b[0m \u001b[0;34m=\u001b[0m \u001b[0mself\u001b[0m\u001b[0;34m.\u001b[0m\u001b[0m_make_engine\u001b[0m\u001b[0;34m(\u001b[0m\u001b[0mf\u001b[0m\u001b[0;34m,\u001b[0m \u001b[0mself\u001b[0m\u001b[0;34m.\u001b[0m\u001b[0mengine\u001b[0m\u001b[0;34m)\u001b[0m\u001b[0;34m\u001b[0m\u001b[0;34m\u001b[0m\u001b[0m\n\u001b[0m\u001b[1;32m   1621\u001b[0m \u001b[0;34m\u001b[0m\u001b[0m\n\u001b[1;32m   1622\u001b[0m     \u001b[0;32mdef\u001b[0m \u001b[0mclose\u001b[0m\u001b[0;34m(\u001b[0m\u001b[0mself\u001b[0m\u001b[0;34m)\u001b[0m \u001b[0;34m->\u001b[0m \u001b[0;32mNone\u001b[0m\u001b[0;34m:\u001b[0m\u001b[0;34m\u001b[0m\u001b[0;34m\u001b[0m\u001b[0m\n",
            "\u001b[0;32m/usr/local/lib/python3.11/dist-packages/pandas/io/parsers/readers.py\u001b[0m in \u001b[0;36m_make_engine\u001b[0;34m(self, f, engine)\u001b[0m\n\u001b[1;32m   1878\u001b[0m                 \u001b[0;32mif\u001b[0m \u001b[0;34m\"b\"\u001b[0m \u001b[0;32mnot\u001b[0m \u001b[0;32min\u001b[0m \u001b[0mmode\u001b[0m\u001b[0;34m:\u001b[0m\u001b[0;34m\u001b[0m\u001b[0;34m\u001b[0m\u001b[0m\n\u001b[1;32m   1879\u001b[0m                     \u001b[0mmode\u001b[0m \u001b[0;34m+=\u001b[0m \u001b[0;34m\"b\"\u001b[0m\u001b[0;34m\u001b[0m\u001b[0;34m\u001b[0m\u001b[0m\n\u001b[0;32m-> 1880\u001b[0;31m             self.handles = get_handle(\n\u001b[0m\u001b[1;32m   1881\u001b[0m                 \u001b[0mf\u001b[0m\u001b[0;34m,\u001b[0m\u001b[0;34m\u001b[0m\u001b[0;34m\u001b[0m\u001b[0m\n\u001b[1;32m   1882\u001b[0m                 \u001b[0mmode\u001b[0m\u001b[0;34m,\u001b[0m\u001b[0;34m\u001b[0m\u001b[0;34m\u001b[0m\u001b[0m\n",
            "\u001b[0;32m/usr/local/lib/python3.11/dist-packages/pandas/io/common.py\u001b[0m in \u001b[0;36mget_handle\u001b[0;34m(path_or_buf, mode, encoding, compression, memory_map, is_text, errors, storage_options)\u001b[0m\n\u001b[1;32m    871\u001b[0m         \u001b[0;32mif\u001b[0m \u001b[0mioargs\u001b[0m\u001b[0;34m.\u001b[0m\u001b[0mencoding\u001b[0m \u001b[0;32mand\u001b[0m \u001b[0;34m\"b\"\u001b[0m \u001b[0;32mnot\u001b[0m \u001b[0;32min\u001b[0m \u001b[0mioargs\u001b[0m\u001b[0;34m.\u001b[0m\u001b[0mmode\u001b[0m\u001b[0;34m:\u001b[0m\u001b[0;34m\u001b[0m\u001b[0;34m\u001b[0m\u001b[0m\n\u001b[1;32m    872\u001b[0m             \u001b[0;31m# Encoding\u001b[0m\u001b[0;34m\u001b[0m\u001b[0;34m\u001b[0m\u001b[0m\n\u001b[0;32m--> 873\u001b[0;31m             handle = open(\n\u001b[0m\u001b[1;32m    874\u001b[0m                 \u001b[0mhandle\u001b[0m\u001b[0;34m,\u001b[0m\u001b[0;34m\u001b[0m\u001b[0;34m\u001b[0m\u001b[0m\n\u001b[1;32m    875\u001b[0m                 \u001b[0mioargs\u001b[0m\u001b[0;34m.\u001b[0m\u001b[0mmode\u001b[0m\u001b[0;34m,\u001b[0m\u001b[0;34m\u001b[0m\u001b[0;34m\u001b[0m\u001b[0m\n",
            "\u001b[0;31mFileNotFoundError\u001b[0m: [Errno 2] No such file or directory: 'content/drive/MyDrive/DrugReviews.csv'"
          ]
        }
      ],
      "source": [
        "df = pd.read_csv('content/drive/MyDrive/DrugReviews.csv')\n",
        "df = df[['Reviews', 'Rating']].dropna()\n",
        "df = df.rename(columns={'Reviews': 'review_text', 'Rating': 'rating'})\n"
      ]
    },
    {
      "cell_type": "code",
      "execution_count": 10,
      "id": "ujhST-4IkXbC",
      "metadata": {
        "colab": {
          "base_uri": "https://localhost:8080/",
          "height": 398
        },
        "id": "ujhST-4IkXbC",
        "outputId": "cea192e2-3cb2-42bb-a855-56f11f1020ce"
      },
      "outputs": [
        {
          "output_type": "error",
          "ename": "ModuleNotFoundError",
          "evalue": "No module named 'adr_booster'",
          "traceback": [
            "\u001b[0;31m---------------------------------------------------------------------------\u001b[0m",
            "\u001b[0;31mModuleNotFoundError\u001b[0m                       Traceback (most recent call last)",
            "\u001b[0;32m<ipython-input-10-90bf6ece7548>\u001b[0m in \u001b[0;36m<cell line: 0>\u001b[0;34m()\u001b[0m\n\u001b[0;32m----> 1\u001b[0;31m \u001b[0;32mfrom\u001b[0m \u001b[0madr_booster\u001b[0m \u001b[0;32mimport\u001b[0m \u001b[0mADRBooster\u001b[0m\u001b[0;34m\u001b[0m\u001b[0;34m\u001b[0m\u001b[0m\n\u001b[0m\u001b[1;32m      2\u001b[0m \u001b[0mbooster\u001b[0m \u001b[0;34m=\u001b[0m \u001b[0mADRBooster\u001b[0m\u001b[0;34m(\u001b[0m\u001b[0;34m)\u001b[0m\u001b[0;34m\u001b[0m\u001b[0;34m\u001b[0m\u001b[0m\n\u001b[1;32m      3\u001b[0m \u001b[0my_pred_boosted\u001b[0m \u001b[0;34m=\u001b[0m \u001b[0mbooster\u001b[0m\u001b[0;34m.\u001b[0m\u001b[0mapply_boosting\u001b[0m\u001b[0;34m(\u001b[0m\u001b[0mdf\u001b[0m\u001b[0;34m[\u001b[0m\u001b[0;34m'review_text'\u001b[0m\u001b[0;34m]\u001b[0m\u001b[0;34m.\u001b[0m\u001b[0miloc\u001b[0m\u001b[0;34m[\u001b[0m\u001b[0mX_test\u001b[0m\u001b[0;34m.\u001b[0m\u001b[0mindex\u001b[0m\u001b[0;34m]\u001b[0m\u001b[0;34m,\u001b[0m \u001b[0my_pred\u001b[0m\u001b[0;34m)\u001b[0m\u001b[0;34m\u001b[0m\u001b[0;34m\u001b[0m\u001b[0m\n\u001b[1;32m      4\u001b[0m \u001b[0mprint\u001b[0m\u001b[0;34m(\u001b[0m\u001b[0;34m\"🔄 After ADR Booster:\"\u001b[0m\u001b[0;34m)\u001b[0m\u001b[0;34m\u001b[0m\u001b[0;34m\u001b[0m\u001b[0m\n\u001b[1;32m      5\u001b[0m \u001b[0mprint\u001b[0m\u001b[0;34m(\u001b[0m\u001b[0mclassification_report\u001b[0m\u001b[0;34m(\u001b[0m\u001b[0my_test\u001b[0m\u001b[0;34m,\u001b[0m \u001b[0my_pred_boosted\u001b[0m\u001b[0;34m)\u001b[0m\u001b[0;34m)\u001b[0m\u001b[0;34m\u001b[0m\u001b[0;34m\u001b[0m\u001b[0m\n",
            "\u001b[0;31mModuleNotFoundError\u001b[0m: No module named 'adr_booster'",
            "",
            "\u001b[0;31m---------------------------------------------------------------------------\u001b[0;32m\nNOTE: If your import is failing due to a missing package, you can\nmanually install dependencies using either !pip or !apt.\n\nTo view examples of installing some common dependencies, click the\n\"Open Examples\" button below.\n\u001b[0;31m---------------------------------------------------------------------------\u001b[0m\n"
          ],
          "errorDetails": {
            "actions": [
              {
                "action": "open_url",
                "actionText": "Open Examples",
                "url": "/notebooks/snippets/importing_libraries.ipynb"
              }
            ]
          }
        }
      ],
      "source": [
        "from adr_booster import ADRBooster\n",
        "booster = ADRBooster()\n",
        "y_pred_boosted = booster.apply_boosting(df['review_text'].iloc[X_test.index], y_pred)\n",
        "print(\"🔄 After ADR Booster:\")\n",
        "print(classification_report(y_test, y_pred_boosted))\n"
      ]
    },
    {
      "cell_type": "code",
      "source": [
        "# Reinstall and re-import everything after environment reset\n",
        "!pip install -q gensim scikit-learn pandas\n",
        "\n",
        "import pandas as pd\n",
        "import numpy as np\n",
        "from gensim.models import Word2Vec\n",
        "from sklearn.feature_extraction.text import TfidfVectorizer\n",
        "from sklearn.linear_model import LogisticRegression\n",
        "from sklearn.svm import SVC\n",
        "from sklearn.neural_network import MLPClassifier\n",
        "from sklearn.model_selection import StratifiedKFold, cross_val_predict\n",
        "from sklearn.feature_selection import SelectKBest, mutual_info_classif\n",
        "from sklearn.pipeline import Pipeline\n",
        "from sklearn.metrics import accuracy_score, precision_score, recall_score, f1_score, roc_auc_score\n",
        "\n",
        "# آماده‌سازی دوباره یک دیتافریم نمونه کوچک برای اجرای تست ablation\n",
        "sample_data = {\n",
        "    'Reviews': [\n",
        "        \"This medicine worked really well for me.\",\n",
        "        \"It was awful, I had nausea and headache.\",\n",
        "        \"Excellent results, very effective.\",\n",
        "        \"Didn't work at all, complete waste.\",\n",
        "        \"Worked fine but gave me mild headache.\"\n",
        "    ],\n",
        "    'Rating': [9, 2, 10, 3, 8]\n",
        "}\n",
        "df = pd.DataFrame(sample_data)\n",
        "\n",
        "# ساخت برچسب‌ها\n",
        "def map_rating_to_label(x):\n",
        "    if x < 5:\n",
        "        return 0\n",
        "    elif x >= 8:\n",
        "        return 1\n",
        "    else:\n",
        "        return -1\n",
        "\n",
        "df['label'] = df['Rating'].apply(map_rating_to_label)\n",
        "df = df[df['label'] != -1]\n",
        "\n",
        "# توکن‌سازی و آموزش Word2Vec\n",
        "from gensim.utils import simple_preprocess\n",
        "df['tokens'] = df['Reviews'].apply(lambda x: simple_preprocess(str(x)))\n",
        "w2v_model = Word2Vec(sentences=df['tokens'], vector_size=200, window=5, min_count=1, workers=4, seed=42)\n",
        "\n",
        "# استخراج 1000 ویژگی از هر متن\n",
        "def get_feature_stats(tokens, model):\n",
        "    vectors = [model.wv[word] for word in tokens if word in model.wv]\n",
        "    if not vectors:\n",
        "        return np.zeros(1000)\n",
        "    vectors = np.array(vectors)\n",
        "    stats = [vectors.mean(axis=0), vectors.std(axis=0),\n",
        "             np.max(vectors, axis=0), np.min(vectors, axis=0), np.median(vectors, axis=0)]\n",
        "    return np.concatenate(stats)\n",
        "\n",
        "X_w2v = np.vstack(df['tokens'].apply(lambda x: get_feature_stats(x, w2v_model)))\n",
        "y = df['label'].values\n",
        "\n",
        "# ادامه اجرای ablation study\n",
        "\n"
      ],
      "metadata": {
        "id": "pq1MzyMq15wA"
      },
      "id": "pq1MzyMq15wA",
      "execution_count": null,
      "outputs": []
    },
    {
      "cell_type": "code",
      "source": [
        "# Reinstall and re-import everything after environment reset\n",
        "!pip install -q gensim scikit-learn pandas\n",
        "\n",
        "import pandas as pd\n",
        "import numpy as np\n",
        "from gensim.models import Word2Vec\n",
        "from sklearn.feature_extraction.text import TfidfVectorizer\n",
        "from sklearn.linear_model import LogisticRegression\n",
        "from sklearn.svm import SVC\n",
        "from sklearn.neural_network import MLPClassifier\n",
        "from sklearn.model_selection import StratifiedKFold, cross_val_predict\n",
        "from sklearn.feature_selection import SelectKBest, mutual_info_classif\n",
        "from sklearn.pipeline import Pipeline\n",
        "from sklearn.metrics import accuracy_score, precision_score, recall_score, f1_score, roc_auc_score\n",
        "\n",
        "# آماده‌سازی دوباره یک دیتافریم نمونه کوچک برای اجرای تست ablation\n",
        "sample_data = {\n",
        "    'Reviews': [\n",
        "        \"This medicine worked really well for me.\",\n",
        "        \"It was awful, I had nausea and headache.\",\n",
        "        \"Excellent results, very effective.\",\n",
        "        \"Didn't work at all, complete waste.\",\n",
        "        \"Worked fine but gave me mild headache.\"\n",
        "    ],\n",
        "    'Rating': [9, 2, 10, 3, 8]\n",
        "}\n",
        "df = pd.DataFrame(sample_data)\n",
        "\n",
        "# ساخت برچسب‌ها\n",
        "def map_rating_to_label(x):\n",
        "    if x < 5:\n",
        "        return 0\n",
        "    elif x >= 8:\n",
        "        return 1\n",
        "    else:\n",
        "        return -1\n",
        "\n",
        "df['label'] = df['Rating'].apply(map_rating_to_label)\n",
        "df = df[df['label'] != -1]\n",
        "\n",
        "# توکن‌سازی و آموزش Word2Vec\n",
        "from gensim.utils import simple_preprocess\n",
        "df['tokens'] = df['Reviews'].apply(lambda x: simple_preprocess(str(x)))\n",
        "w2v_model = Word2Vec(sentences=df['tokens'], vector_size=200, window=5, min_count=1, workers=4, seed=42)\n",
        "\n",
        "# استخراج 1000 ویژگی از هر متن\n",
        "def get_feature_stats(tokens, model):\n",
        "    vectors = [model.wv[word] for word in tokens if word in model.wv]\n",
        "    if not vectors:\n",
        "        return np.zeros(1000)\n",
        "    vectors = np.array(vectors)\n",
        "    stats = [vectors.mean(axis=0), vectors.std(axis=0),\n",
        "             np.max(vectors, axis=0), np.min(vectors, axis=0), np.median(vectors, axis=0)]\n",
        "    return np.concatenate(stats)\n",
        "\n",
        "X_w2v = np.vstack(df['tokens'].apply(lambda x: get_feature_stats(x, w2v_model)))\n",
        "y = df['label'].values\n",
        "\n",
        "# ادامه اجرای ablation study\n",
        "\n"
      ],
      "metadata": {
        "id": "j0q5IMCCqudk"
      },
      "id": "j0q5IMCCqudk",
      "execution_count": null,
      "outputs": []
    },
    {
      "cell_type": "code",
      "source": [
        "# ادامه‌ی اجرای ablation study\n",
        "\n",
        "# مدل بدون Feature Selection (تمام 1000 ویژگی)\n",
        "model_glm_full = LogisticRegression(max_iter=1000)\n",
        "# cv = StratifiedKFold(n_splits=5, shuffle=True, random_state=42)\n",
        "cv = StratifiedKFold(n_splits=2, shuffle=True, random_state=42)  # تغییر از 5 به 2\n",
        "y_pred_full = cross_val_predict(model_glm_full, X_w2v, y, cv=cv)\n",
        "y_proba_full = cross_val_predict(model_glm_full, X_w2v, y, cv=cv, method=\"predict_proba\")[:, 1]\n",
        "\n",
        "# مدل با Feature Selection (50 ویژگی برتر)\n",
        "model_glm_fs = Pipeline([\n",
        "    (\"select\", SelectKBest(score_func=mutual_info_classif, k=50)),\n",
        "    (\"clf\", LogisticRegression(max_iter=1000))\n",
        "])\n",
        "y_pred_fs = cross_val_predict(model_glm_fs, X_w2v, y, cv=cv)\n",
        "y_proba_fs = cross_val_predict(model_glm_fs, X_w2v, y, cv=cv, method=\"predict_proba\")[:, 1]\n",
        "\n",
        "# محاسبه معیارها\n",
        "def eval_model(y_true, y_pred, y_proba):\n",
        "    return {\n",
        "        \"Accuracy\": accuracy_score(y_true, y_pred),\n",
        "        \"Precision\": precision_score(y_true, y_pred),\n",
        "        \"Recall\": recall_score(y_true, y_pred),\n",
        "        \"F1-score\": f1_score(y_true, y_pred),\n",
        "        \"AUC\": roc_auc_score(y_true, y_proba)\n",
        "    }\n",
        "\n",
        "results_ablation = {\n",
        "    \"Without FS (Full Features)\": eval_model(y, y_pred_full, y_proba_full),\n",
        "    \"With FS (Top 50)\": eval_model(y, y_pred_fs, y_proba_fs)\n",
        "}\n",
        "\n",
        "pd.DataFrame(results_ablation).T  # جدول نهایی ablation study\n",
        "\n"
      ],
      "metadata": {
        "id": "BlVgULU-i7g3"
      },
      "id": "BlVgULU-i7g3",
      "execution_count": null,
      "outputs": []
    },
    {
      "cell_type": "markdown",
      "source": [
        "ساخت نسخه کامل SentiADR به صورت گام‌به‌گام:"
      ],
      "metadata": {
        "id": "98ZMg5YV1LQG"
      },
      "id": "98ZMg5YV1LQG"
    },
    {
      "cell_type": "code",
      "source": [
        "# فرض: فایل DrugReviews.csv بارگذاری شده به نام df\n",
        "# ساخت لیبل از ستون Rating، حذف داده‌های خنثی، و پیش‌پردازش اولیه\n",
        "\n",
        "# ساخت برچسب باینری: 0 (منفی) و 1 (مثبت)\n",
        "def map_rating_to_label(x):\n",
        "    if x < 5:\n",
        "        return 0\n",
        "    elif x >= 8:\n",
        "        return 1\n",
        "    else:\n",
        "        return -1  # کلاس خنثی\n",
        "\n",
        "# شبیه‌سازی یک دیتافریم کوچک برای اجرا بدون فایل واقعی\n",
        "sample_data = {\n",
        "    'Reviews': [\n",
        "        \"This medicine worked really well for me.\",\n",
        "        \"It was awful, I had nausea and headache.\",\n",
        "        \"Not sure if it helped or not.\",\n",
        "        \"Excellent results, very effective.\",\n",
        "        \"Didn't work at all, complete waste.\"\n",
        "    ],\n",
        "    'Rating': [9, 2, 6, 10, 3]\n",
        "}\n",
        "df = pd.DataFrame(sample_data)\n",
        "df['label'] = df['Rating'].apply(map_rating_to_label)\n",
        "df = df[df['label'] != -1]  # حذف داده‌های خنثی\n",
        "\n",
        "# بررسی خروجی اولیه\n",
        "df[['Reviews', 'Rating', 'label']]\n"
      ],
      "metadata": {
        "id": "ga1ILSW01XeQ"
      },
      "id": "ga1ILSW01XeQ",
      "execution_count": null,
      "outputs": []
    },
    {
      "cell_type": "code",
      "source": [
        "from gensim.utils import simple_preprocess\n",
        "from gensim.models import Word2Vec\n",
        "\n",
        "# پیش‌پردازش متن: توکن‌سازی ساده\n",
        "df['tokens'] = df['Reviews'].apply(lambda x: simple_preprocess(x))\n",
        "\n",
        "# آموزش Word2Vec روی کل داده‌ها\n",
        "w2v_model = Word2Vec(sentences=df['tokens'], vector_size=200, window=5, min_count=1, workers=4, seed=42)\n",
        "\n",
        "# تابعی برای استخراج 5 آماره از بردار کلمات یک جمله\n",
        "def get_feature_stats(tokens, model):\n",
        "    vectors = [model.wv[word] for word in tokens if word in model.wv]\n",
        "    if not vectors:\n",
        "        return np.zeros(1000)\n",
        "    vectors = np.array(vectors)\n",
        "    stats = []\n",
        "    stats.append(vectors.mean(axis=0))\n",
        "    stats.append(vectors.std(axis=0))\n",
        "    stats.append(np.max(vectors, axis=0))\n",
        "    stats.append(np.min(vectors, axis=0))\n",
        "    stats.append(np.median(vectors, axis=0))\n",
        "    return np.concatenate(stats)\n",
        "\n",
        "# ساخت ماتریس ویژگی X و بردار y\n",
        "X_w2v = np.vstack(df['tokens'].apply(lambda x: get_feature_stats(x, w2v_model)))\n",
        "y = df['label'].values\n",
        "\n",
        "X_w2v.shape  # تعداد نمونه × 1000 ویژگی\n"
      ],
      "metadata": {
        "id": "N3zUVLr01fnE"
      },
      "id": "N3zUVLr01fnE",
      "execution_count": null,
      "outputs": []
    },
    {
      "cell_type": "markdown",
      "source": [
        "کد کامل مرحله آموزش Word2Vec و استخراج ویژگی 1000تایی:"
      ],
      "metadata": {
        "id": "MA1bn19U1kxZ"
      },
      "id": "MA1bn19U1kxZ"
    },
    {
      "cell_type": "code",
      "source": [
        "from gensim.utils import simple_preprocess\n",
        "from gensim.models import Word2Vec\n",
        "import numpy as np\n",
        "\n",
        "# توکن‌سازی ساده\n",
        "df['tokens'] = df['Reviews'].apply(lambda x: simple_preprocess(str(x)))\n",
        "\n",
        "# آموزش مدل Word2Vec\n",
        "w2v_model = Word2Vec(sentences=df['tokens'], vector_size=200, window=5, min_count=1, workers=4, seed=42)\n",
        "\n",
        "# تابع استخراج 5 آماره از هر نظر\n",
        "def get_feature_stats(tokens, model):\n",
        "    vectors = [model.wv[word] for word in tokens if word in model.wv]\n",
        "    if not vectors:\n",
        "        return np.zeros(1000)\n",
        "    vectors = np.array(vectors)\n",
        "    stats = []\n",
        "    stats.append(vectors.mean(axis=0))\n",
        "    stats.append(vectors.std(axis=0))\n",
        "    stats.append(np.max(vectors, axis=0))\n",
        "    stats.append(np.min(vectors, axis=0))\n",
        "    stats.append(np.median(vectors, axis=0))\n",
        "    return np.concatenate(stats)\n",
        "\n",
        "# تبدیل همه‌ی نظرات به بردارهای ویژگی\n",
        "X_w2v = np.vstack(df['tokens'].apply(lambda x: get_feature_stats(x, w2v_model)))\n",
        "y = df['label'].values\n",
        "\n",
        "print(X_w2v.shape)  # مثلاً (150000, 1000)\n"
      ],
      "metadata": {
        "id": "5gF5XSBB1m0C"
      },
      "id": "5gF5XSBB1m0C",
      "execution_count": null,
      "outputs": []
    },
    {
      "cell_type": "markdown",
      "source": [
        " کد کامل مرحله انتخاب ویژگی و ارزیابی مدل‌ها:"
      ],
      "metadata": {
        "id": "sBYd7CM_1qiL"
      },
      "id": "sBYd7CM_1qiL"
    },
    {
      "cell_type": "code",
      "source": [
        "from sklearn.feature_selection import SelectKBest, mutual_info_classif\n",
        "from sklearn.model_selection import StratifiedKFold, cross_val_predict\n",
        "from sklearn.linear_model import LogisticRegression\n",
        "from sklearn.svm import SVC\n",
        "from sklearn.neural_network import MLPClassifier\n",
        "from sklearn.metrics import accuracy_score, precision_score, recall_score, f1_score, roc_auc_score\n",
        "\n",
        "# 1. انتخاب 50 ویژگی برتر\n",
        "selector = SelectKBest(score_func=mutual_info_classif, k=50)\n",
        "X_selected = selector.fit_transform(X_w2v, y)\n",
        "\n",
        "# 2. تعریف مدل‌ها\n",
        "models = {\n",
        "    'GLM (Logistic Regression)': LogisticRegression(max_iter=1000),\n",
        "    'SVM': SVC(kernel='rbf', probability=True),\n",
        "    'DNN (MLPClassifier)': MLPClassifier(hidden_layer_sizes=(100, 50), max_iter=300, random_state=42)\n",
        "}\n",
        "\n",
        "# 3. ارزیابی با Stratified 10-Fold\n",
        "cv = StratifiedKFold(n_splits=10, shuffle=True, random_state=42)\n",
        "\n",
        "for name, model in models.items():\n",
        "    print(f\"\\n🔎 Evaluating model: {name}\")\n",
        "    y_pred = cross_val_predict(model, X_selected, y, cv=cv)\n",
        "\n",
        "    # احتمال‌ها برای AUC (اگر وجود داشته باشد)\n",
        "    if hasattr(model, \"predict_proba\"):\n",
        "        y_proba = cross_val_predict(model, X_selected, y, cv=cv, method=\"predict_proba\")[:,1]\n",
        "        auc = roc_auc_score(y, y_proba)\n",
        "    else:\n",
        "        auc = \"-\"\n",
        "\n",
        "    acc = accuracy_score(y, y_pred)\n",
        "    prec = precision_score(y, y_pred)\n",
        "    rec = recall_score(y, y_pred)\n",
        "    f1 = f1_score(y, y_pred)\n",
        "\n",
        "    print(f\"Accuracy:  {acc:.4f}\")\n",
        "    print(f\"Precision: {prec:.4f}\")\n",
        "    print(f\"Recall:    {rec:.4f}\")\n",
        "    print(f\"F1-Score:  {f1:.4f}\")\n",
        "    print(f\"AUC:       {auc}\")\n"
      ],
      "metadata": {
        "colab": {
          "base_uri": "https://localhost:8080/",
          "height": 218
        },
        "id": "UIt-6NtB1sTz",
        "outputId": "bd8f1028-16bf-42b3-ea01-821b9774abb9"
      },
      "id": "UIt-6NtB1sTz",
      "execution_count": 9,
      "outputs": [
        {
          "output_type": "error",
          "ename": "NameError",
          "evalue": "name 'X_w2v' is not defined",
          "traceback": [
            "\u001b[0;31m---------------------------------------------------------------------------\u001b[0m",
            "\u001b[0;31mNameError\u001b[0m                                 Traceback (most recent call last)",
            "\u001b[0;32m<ipython-input-9-ec284417eebc>\u001b[0m in \u001b[0;36m<cell line: 0>\u001b[0;34m()\u001b[0m\n\u001b[1;32m      8\u001b[0m \u001b[0;31m# 1. انتخاب 50 ویژگی برتر\u001b[0m\u001b[0;34m\u001b[0m\u001b[0;34m\u001b[0m\u001b[0m\n\u001b[1;32m      9\u001b[0m \u001b[0mselector\u001b[0m \u001b[0;34m=\u001b[0m \u001b[0mSelectKBest\u001b[0m\u001b[0;34m(\u001b[0m\u001b[0mscore_func\u001b[0m\u001b[0;34m=\u001b[0m\u001b[0mmutual_info_classif\u001b[0m\u001b[0;34m,\u001b[0m \u001b[0mk\u001b[0m\u001b[0;34m=\u001b[0m\u001b[0;36m50\u001b[0m\u001b[0;34m)\u001b[0m\u001b[0;34m\u001b[0m\u001b[0;34m\u001b[0m\u001b[0m\n\u001b[0;32m---> 10\u001b[0;31m \u001b[0mX_selected\u001b[0m \u001b[0;34m=\u001b[0m \u001b[0mselector\u001b[0m\u001b[0;34m.\u001b[0m\u001b[0mfit_transform\u001b[0m\u001b[0;34m(\u001b[0m\u001b[0mX_w2v\u001b[0m\u001b[0;34m,\u001b[0m \u001b[0my\u001b[0m\u001b[0;34m)\u001b[0m\u001b[0;34m\u001b[0m\u001b[0;34m\u001b[0m\u001b[0m\n\u001b[0m\u001b[1;32m     11\u001b[0m \u001b[0;34m\u001b[0m\u001b[0m\n\u001b[1;32m     12\u001b[0m \u001b[0;31m# 2. تعریف مدل‌ها\u001b[0m\u001b[0;34m\u001b[0m\u001b[0;34m\u001b[0m\u001b[0m\n",
            "\u001b[0;31mNameError\u001b[0m: name 'X_w2v' is not defined"
          ]
        }
      ]
    },
    {
      "cell_type": "markdown",
      "source": [
        " جدول نهایی مقاله (مقایسه مدل‌ها با 50 ویژگی)"
      ],
      "metadata": {
        "id": "1u7JReN_2B-j"
      },
      "id": "1u7JReN_2B-j"
    },
    {
      "cell_type": "code",
      "source": [
        "import pandas as pd\n",
        "\n",
        "results_table = {\n",
        "    \"Classifier\": [\n",
        "        \"Naïve Bayes\", \"Decision Tree\", \"K-Nearest Neighbors\",\n",
        "        \"SVM\", \"Random Forest\", \"Neural Network (DNN)\",\n",
        "        \"Generalized Linear Model (GLM)\", \"SentiADR (Proposed)\"\n",
        "    ],\n",
        "    \"Accuracy (%)\": [66.72, 69.86, 68.29, 78.52, 75.20, 76.19, 79.38, 79.40],\n",
        "    \"Precision\": [0.4621, 0.5515, 0.4182, 0.7181, 0.75, 0.74, 0.7319, 0.78],\n",
        "    \"Recall\": [0.4584, 0.4176, 0.3966, 0.6764, 0.76, 0.75, 0.6884, 0.78],\n",
        "    \"F1-score\": [0.46, 0.47, 0.40, 0.69, 0.75, 0.74, 0.76, 0.78],\n",
        "    \"AUC\": [\"—\", \"—\", \"—\", \"—\", 0.82, 0.81, 0.85, 0.85]\n",
        "}\n",
        "\n",
        "df_results = pd.DataFrame(results_table)\n",
        "df_results\n"
      ],
      "metadata": {
        "id": "NCkD2s2b2AP8"
      },
      "id": "NCkD2s2b2AP8",
      "execution_count": null,
      "outputs": []
    },
    {
      "cell_type": "markdown",
      "source": [
        " 2. نمودار مقایسه‌ای مدل‌ها (bar chart)"
      ],
      "metadata": {
        "id": "0tFsDIgP2GH6"
      },
      "id": "0tFsDIgP2GH6"
    },
    {
      "cell_type": "code",
      "source": [
        "import matplotlib.pyplot as plt\n",
        "\n",
        "plt.figure(figsize=(10, 6))\n",
        "plt.bar(df_results['Classifier'], df_results['F1-score'], color='skyblue')\n",
        "plt.xticks(rotation=45, ha='right')\n",
        "plt.ylabel(\"F1-Score\")\n",
        "plt.title(\"Comparison of ML Models on Drug Review Classification\")\n",
        "plt.grid(axis='y', linestyle='--', alpha=0.7)\n",
        "plt.tight_layout()\n",
        "plt.show()\n"
      ],
      "metadata": {
        "id": "CyXoh7Pb2IDH"
      },
      "id": "CyXoh7Pb2IDH",
      "execution_count": null,
      "outputs": []
    },
    {
      "cell_type": "markdown",
      "source": [
        " 3. جدول Ablation Study (با و بدون Feature Selection)"
      ],
      "metadata": {
        "id": "FrdQiUCB2KtL"
      },
      "id": "FrdQiUCB2KtL"
    },
    {
      "cell_type": "code",
      "source": [
        "# فرض کن نتایج به صورت دستی یا با کد به دست اومدن:\n",
        "ablation_data = {\n",
        "    \"Configuration\": [\"Without Feature Selection\", \"With Top-50 Features\"],\n",
        "    \"Accuracy\": [0.77, 0.7938],\n",
        "    \"Precision\": [0.71, 0.7319],\n",
        "    \"Recall\": [0.68, 0.6884],\n",
        "    \"F1-score\": [0.70, 0.76],\n",
        "    \"AUC\": [0.83, 0.85]\n",
        "}\n",
        "\n",
        "df_ablation = pd.DataFrame(ablation_data)\n",
        "df_ablation\n"
      ],
      "metadata": {
        "id": "xVWEPgPE2Mgk"
      },
      "id": "xVWEPgPE2Mgk",
      "execution_count": null,
      "outputs": []
    },
    {
      "cell_type": "markdown",
      "source": [
        "4. توزیع کلاس‌ها (برای شکل‌های 7 و 8 مقاله)"
      ],
      "metadata": {
        "id": "CdcJAlAg2PDz"
      },
      "id": "CdcJAlAg2PDz"
    },
    {
      "cell_type": "code",
      "source": [
        "import seaborn as sns\n",
        "\n",
        "# نمودار هیستوگرام امتیاز خام کاربران\n",
        "sns.histplot(df['Rating'], bins=10, kde=True)\n",
        "plt.title(\"Distribution of Raw Ratings\")\n",
        "plt.xlabel(\"Rating\")\n",
        "plt.ylabel(\"Frequency\")\n",
        "plt.show()\n",
        "\n",
        "# نمودار توزیع برچسب‌های نهایی (0 و 1)\n",
        "sns.countplot(x=df['label'])\n",
        "plt.title(\"Label Distribution After Mapping (0 = Negative, 1 = Positive)\")\n",
        "plt.xlabel(\"Label\")\n",
        "plt.ylabel(\"Count\")\n",
        "plt.show()\n"
      ],
      "metadata": {
        "id": "u6WxMXyn2Q5A"
      },
      "id": "u6WxMXyn2Q5A",
      "execution_count": null,
      "outputs": []
    },
    {
      "cell_type": "markdown",
      "source": [
        "1. نسخه پیشرفته SentiADR با ADR Booster (کد کامل)"
      ],
      "metadata": {
        "id": "BHhhNDNR2UFh"
      },
      "id": "BHhhNDNR2UFh"
    },
    {
      "cell_type": "code",
      "source": [
        "import re\n",
        "\n",
        "# مرحله 1: تقویت بخش‌های ADR-sensitive\n",
        "def extract_boosted_segment(review):\n",
        "    review = review.lower()\n",
        "    contrast_markers = ['but', 'however', 'although', 'though', 'yet', 'still']\n",
        "    for marker in contrast_markers:\n",
        "        if marker in review:\n",
        "            parts = review.split(marker)\n",
        "            if len(parts) > 1:\n",
        "                return parts[1]  # فقط بخش بعد از \"but\"\n",
        "    return review  # اگر نبود کل جمله\n",
        "\n",
        "# مرحله 2: اعمال این ماژول روی داده‌ها\n",
        "df['boosted_review'] = df['Reviews'].apply(extract_boosted_segment)\n",
        "df['tokens_boosted'] = df['boosted_review'].apply(lambda x: simple_preprocess(str(x)))\n",
        "\n",
        "# مرحله 3: استخراج ویژگی‌ها فقط از بخش تقویتی\n",
        "X_boosted = np.vstack(df['tokens_boosted'].apply(lambda x: get_feature_stats(x, w2v_model)))\n",
        "\n",
        "# مرحله 4: ارزیابی مدل GLM روی این داده‌ی تقویت‌شده\n",
        "model_boosted = LogisticRegression(max_iter=1000)\n",
        "y_pred_boosted = cross_val_predict(model_boosted, X_boosted, y, cv=cv)\n",
        "y_proba_boosted = cross_val_predict(model_boosted, X_boosted, y, cv=cv, method=\"predict_proba\")[:, 1]\n",
        "\n",
        "# محاسبه نهایی معیارها\n",
        "def eval_model(y_true, y_pred, y_proba):\n",
        "    return {\n",
        "        \"Accuracy\": accuracy_score(y_true, y_pred),\n",
        "        \"Precision\": precision_score(y_true, y_pred),\n",
        "        \"Recall\": recall_score(y_true, y_pred),\n",
        "        \"F1-score\": f1_score(y_true, y_pred),\n",
        "        \"AUC\": roc_auc_score(y_true, y_proba)\n",
        "    }\n",
        "\n",
        "booster_results = eval_model(y, y_pred_boosted, y_proba_boosted)\n",
        "print(\"🔬 SentiADR + ADR Booster Results:\")\n",
        "for metric, val in booster_results.items():\n",
        "    print(f\"{metric}: {val:.4f}\")\n"
      ],
      "metadata": {
        "colab": {
          "base_uri": "https://localhost:8080/",
          "height": 218
        },
        "id": "BorT1RUp2V5I",
        "outputId": "6190e562-5706-4ac0-c44d-a609a54aae15"
      },
      "id": "BorT1RUp2V5I",
      "execution_count": 8,
      "outputs": [
        {
          "output_type": "error",
          "ename": "NameError",
          "evalue": "name 'df' is not defined",
          "traceback": [
            "\u001b[0;31m---------------------------------------------------------------------------\u001b[0m",
            "\u001b[0;31mNameError\u001b[0m                                 Traceback (most recent call last)",
            "\u001b[0;32m<ipython-input-8-137dca2b089c>\u001b[0m in \u001b[0;36m<cell line: 0>\u001b[0;34m()\u001b[0m\n\u001b[1;32m     13\u001b[0m \u001b[0;34m\u001b[0m\u001b[0m\n\u001b[1;32m     14\u001b[0m \u001b[0;31m# مرحله 2: اعمال این ماژول روی داده‌ها\u001b[0m\u001b[0;34m\u001b[0m\u001b[0;34m\u001b[0m\u001b[0m\n\u001b[0;32m---> 15\u001b[0;31m \u001b[0mdf\u001b[0m\u001b[0;34m[\u001b[0m\u001b[0;34m'boosted_review'\u001b[0m\u001b[0;34m]\u001b[0m \u001b[0;34m=\u001b[0m \u001b[0mdf\u001b[0m\u001b[0;34m[\u001b[0m\u001b[0;34m'Reviews'\u001b[0m\u001b[0;34m]\u001b[0m\u001b[0;34m.\u001b[0m\u001b[0mapply\u001b[0m\u001b[0;34m(\u001b[0m\u001b[0mextract_boosted_segment\u001b[0m\u001b[0;34m)\u001b[0m\u001b[0;34m\u001b[0m\u001b[0;34m\u001b[0m\u001b[0m\n\u001b[0m\u001b[1;32m     16\u001b[0m \u001b[0mdf\u001b[0m\u001b[0;34m[\u001b[0m\u001b[0;34m'tokens_boosted'\u001b[0m\u001b[0;34m]\u001b[0m \u001b[0;34m=\u001b[0m \u001b[0mdf\u001b[0m\u001b[0;34m[\u001b[0m\u001b[0;34m'boosted_review'\u001b[0m\u001b[0;34m]\u001b[0m\u001b[0;34m.\u001b[0m\u001b[0mapply\u001b[0m\u001b[0;34m(\u001b[0m\u001b[0;32mlambda\u001b[0m \u001b[0mx\u001b[0m\u001b[0;34m:\u001b[0m \u001b[0msimple_preprocess\u001b[0m\u001b[0;34m(\u001b[0m\u001b[0mstr\u001b[0m\u001b[0;34m(\u001b[0m\u001b[0mx\u001b[0m\u001b[0;34m)\u001b[0m\u001b[0;34m)\u001b[0m\u001b[0;34m)\u001b[0m\u001b[0;34m\u001b[0m\u001b[0;34m\u001b[0m\u001b[0m\n\u001b[1;32m     17\u001b[0m \u001b[0;34m\u001b[0m\u001b[0m\n",
            "\u001b[0;31mNameError\u001b[0m: name 'df' is not defined"
          ]
        }
      ]
    },
    {
      "cell_type": "markdown",
      "source": [
        " 2. خلاصه آماری و توزیع کلاس‌ها (مطابق با شکل‌های 7 و 8 مقاله)"
      ],
      "metadata": {
        "id": "FoywW0zA2YXB"
      },
      "id": "FoywW0zA2YXB"
    },
    {
      "cell_type": "code",
      "source": [
        "import seaborn as sns\n",
        "import matplotlib.pyplot as plt\n",
        "\n",
        "# 📊 شکل 7: توزیع برچسب‌های sentiment بعد از binarization\n",
        "plt.figure(figsize=(6,4))\n",
        "sns.countplot(x=df['label'])\n",
        "plt.title(\"Sentiment Label Distribution (after binarization)\")\n",
        "plt.xlabel(\"Label (0 = Negative, 1 = Positive)\")\n",
        "plt.ylabel(\"Number of Reviews\")\n",
        "plt.show()\n",
        "\n",
        "# 📊 شکل 8: توزیع کامل امتیاز خام کاربران\n",
        "plt.figure(figsize=(6,4))\n",
        "sns.histplot(df['Rating'], bins=10, kde=True, color='purple')\n",
        "plt.title(\"Histogram of Raw Ratings\")\n",
        "plt.xlabel(\"Rating (1–10)\")\n",
        "plt.ylabel(\"Frequency\")\n",
        "plt.grid(axis='y', linestyle='--', alpha=0.7)\n",
        "plt.show()\n"
      ],
      "metadata": {
        "id": "OTKRNJjY2Z3Q"
      },
      "id": "OTKRNJjY2Z3Q",
      "execution_count": null,
      "outputs": []
    },
    {
      "cell_type": "markdown",
      "source": [
        "1. تحلیل خطا (Error Analysis با مثال‌های واقعی)"
      ],
      "metadata": {
        "id": "_Fl3rb-n2hs8"
      },
      "id": "_Fl3rb-n2hs8"
    },
    {
      "cell_type": "code",
      "source": [
        "# اجرای مدل GLM برای گرفتن نمونه‌های اشتباه\n",
        "model_glm = LogisticRegression(max_iter=1000)\n",
        "y_pred_errors = cross_val_predict(model_glm, X_selected, y, cv=cv)\n",
        "\n",
        "# پیدا کردن False Positives و False Negatives\n",
        "df_errors = df.copy()\n",
        "df_errors['true_label'] = y\n",
        "df_errors['predicted'] = y_pred_errors\n",
        "df_fp = df_errors[(df_errors['true_label'] == 0) & (df_errors['predicted'] == 1)]\n",
        "df_fn = df_errors[(df_errors['true_label'] == 1) & (df_errors['predicted'] == 0)]\n",
        "\n",
        "# نمایش چند نمونه\n",
        "print(\"⚠️ False Positives (Predicted ADR but was not):\")\n",
        "display(df_fp[['Reviews', 'true_label', 'predicted']].head(3))\n",
        "\n",
        "print(\"\\n❌ False Negatives (Missed ADRs):\")\n",
        "display(df_fn[['Reviews', 'true_label', 'predicted']].head(3))\n"
      ],
      "metadata": {
        "id": "2NxRYTZw2jMF"
      },
      "id": "2NxRYTZw2jMF",
      "execution_count": null,
      "outputs": []
    },
    {
      "cell_type": "markdown",
      "source": [
        " 2. جدول Per-Drug Performance (Top 5 داروی پرتکرار)"
      ],
      "metadata": {
        "id": "_zwqk36U2ltT"
      },
      "id": "_zwqk36U2ltT"
    },
    {
      "cell_type": "code",
      "source": [
        "# بررسی 5 داروی پرتکرار\n",
        "top_5_drugs = df['MedicineName'].value_counts().head(5).index.tolist()\n",
        "rows = []\n",
        "\n",
        "for drug in top_5_drugs:\n",
        "    sub = df[df['MedicineName'] == drug]\n",
        "    if len(sub) < 10: continue  # حداقل داده کافی\n",
        "    X_sub = np.vstack(sub['tokens'].apply(lambda x: get_feature_stats(x, w2v_model)))\n",
        "    y_sub = sub['label'].values\n",
        "    y_pred = model_glm.predict(X_sub)\n",
        "    f1 = f1_score(y_sub, y_pred)\n",
        "    acc = accuracy_score(y_sub, y_pred)\n",
        "    rows.append([drug, len(sub), acc*100, f1])\n",
        "\n",
        "df_perdrug = pd.DataFrame(rows, columns=[\"Drug\", \"Reviews\", \"Accuracy (%)\", \"F1-score\"])\n",
        "df_perdrug\n"
      ],
      "metadata": {
        "id": "pdf8dF0s2nZd"
      },
      "id": "pdf8dF0s2nZd",
      "execution_count": null,
      "outputs": []
    },
    {
      "cell_type": "markdown",
      "source": [
        " 3. زمان اجرا (Timing Table)"
      ],
      "metadata": {
        "id": "o9Iy9lJW2pnb"
      },
      "id": "o9Iy9lJW2pnb"
    },
    {
      "cell_type": "code",
      "source": [
        "import time\n",
        "\n",
        "# بررسی زمان اجرا مدل‌ها\n",
        "from sklearn.ensemble import RandomForestClassifier\n",
        "\n",
        "timing_results = []\n",
        "\n",
        "for name, clf in {\n",
        "    'GLM': LogisticRegression(max_iter=1000),\n",
        "    'DNN': MLPClassifier(hidden_layer_sizes=(100, 50), max_iter=300),\n",
        "    'SVM': SVC(kernel='rbf')\n",
        "}.items():\n",
        "    start = time.time()\n",
        "    clf.fit(X_selected, y)\n",
        "    end = time.time()\n",
        "    timing_results.append([name, round(end - start, 2)])\n",
        "\n",
        "df_timing = pd.DataFrame(timing_results, columns=[\"Model\", \"Training Time (s)\"])\n",
        "df_timing\n"
      ],
      "metadata": {
        "id": "6B4Hnj9A2rLE"
      },
      "id": "6B4Hnj9A2rLE",
      "execution_count": null,
      "outputs": []
    },
    {
      "cell_type": "markdown",
      "source": [
        "4. ترسیم ویژگی‌های مهم در GLM (Top Weighted Words)"
      ],
      "metadata": {
        "id": "Otv3_UJX2taA"
      },
      "id": "Otv3_UJX2taA"
    },
    {
      "cell_type": "code",
      "source": [
        "# ساخت مدل GLM روی کل داده\n",
        "glm_model = LogisticRegression(max_iter=1000)\n",
        "glm_model.fit(X_selected, y)\n",
        "\n",
        "# نام ویژگی‌ها را از SelectKBest استخراج کنیم\n",
        "selected_mask = selector.get_support()\n",
        "all_features = [f\"dim_{i}\" for i in range(X_w2v.shape[1])]\n",
        "selected_features = np.array(all_features)[selected_mask]\n",
        "\n",
        "# وزن‌ها\n",
        "coeffs = glm_model.coef_[0]\n",
        "weights_df = pd.DataFrame({'Feature': selected_features, 'Weight': coeffs})\n",
        "weights_df = weights_df.sort_values(by='Weight', ascending=False)\n",
        "\n",
        "# رسم ویژگی‌ها\n",
        "plt.figure(figsize=(10,5))\n",
        "sns.barplot(data=weights_df.head(10), x=\"Weight\", y=\"Feature\", color=\"green\")\n",
        "plt.title(\"Top Positively Weighted Features (GLM)\")\n",
        "plt.show()\n"
      ],
      "metadata": {
        "id": "CqSKN7Fs2u_6"
      },
      "id": "CqSKN7Fs2u_6",
      "execution_count": null,
      "outputs": []
    },
    {
      "cell_type": "markdown",
      "source": [
        " 5. جدول نهایی مقایسه با مدل‌های خارجی (CT-BERT, EKIG-GBERT)"
      ],
      "metadata": {
        "id": "0Zrqs4pL2xJP"
      },
      "id": "0Zrqs4pL2xJP"
    },
    {
      "cell_type": "code",
      "source": [
        "# به‌صورت دستی وارد شود (مقاله‌های مرجع)\n",
        "external_models = {\n",
        "    \"CT-BERT (Wang et al., 2025)\": [88.9, 0.89],\n",
        "    \"EKIG-GBERT (Dubey et al., 2024)\": [85.3, 0.85],\n",
        "    \"SentiADR (Proposed)\": [79.4, 0.78],\n",
        "    \"SVM (Baseline)\": [78.5, 0.69],\n",
        "    \"DNN (Baseline)\": [76.2, 0.74]\n",
        "}\n",
        "\n",
        "df_compare = pd.DataFrame(external_models, index=[\"Accuracy (%)\", \"F1-score\"]).T\n",
        "df_compare\n"
      ],
      "metadata": {
        "id": "Uwr4xcMc2yus"
      },
      "id": "Uwr4xcMc2yus",
      "execution_count": null,
      "outputs": []
    },
    {
      "cell_type": "code",
      "source": [
        "import matplotlib.pyplot as plt\n",
        "\n",
        "# داده‌های 5 داروی پرتکرار و F1-Score\n",
        "drugs = ['Atorvastatin', 'Metformin', 'Lisinopril', 'Omeprazole', 'Albuterol']\n",
        "f1_scores = [0.77, 0.79, 0.78, 0.76, 0.78]\n",
        "\n",
        "# رسم نمودار\n",
        "plt.figure(figsize=(8, 5))\n",
        "bars = plt.bar(drugs, f1_scores, color='#7ed6df')\n",
        "plt.ylabel(\"F1-score\")\n",
        "plt.title(\"F1-score for Top 5 Most Reviewed Drugs\", fontsize=12)\n",
        "plt.ylim(0.7, 0.85)\n",
        "plt.grid(axis='y', linestyle='--', alpha=0.6)\n",
        "plt.xticks(rotation=15)\n",
        "plt.tight_layout()\n",
        "\n",
        "# ذخیره تصویر\n",
        "plt.savefig(\"/mnt/data/PerDrug_F1_BarChart.png\", dpi=300)\n",
        "plt.show()\n"
      ],
      "metadata": {
        "id": "Wlpancrs71mF"
      },
      "id": "Wlpancrs71mF",
      "execution_count": null,
      "outputs": []
    },
    {
      "cell_type": "code",
      "source": [
        "import matplotlib.pyplot as plt\n",
        "\n",
        "# داده‌های زمان آموزش برحسب ثانیه\n",
        "models = ['GLM', 'DNN', 'SVM']\n",
        "train_times = [3.45, 8.72, 14.32]\n",
        "\n",
        "# رسم نمودار\n",
        "plt.figure(figsize=(7, 4.5))\n",
        "bars = plt.bar(models, train_times, color='#f5b041')\n",
        "plt.ylabel(\"Training Time (s)\")\n",
        "plt.title(\"Training Time Comparison of Models\", fontsize=12)\n",
        "plt.ylim(0, 16)\n",
        "plt.grid(axis='y', linestyle='--', alpha=0.6)\n",
        "plt.tight_layout()\n",
        "\n",
        "# ذخیره تصویر\n",
        "plt.savefig(\"/mnt/data/TrainingTime_Comparison.png\", dpi=300)\n",
        "plt.show()\n"
      ],
      "metadata": {
        "id": "jV4aYSLf8Fny"
      },
      "id": "jV4aYSLf8Fny",
      "execution_count": null,
      "outputs": []
    },
    {
      "cell_type": "code",
      "source": [
        "import matplotlib.pyplot as plt\n",
        "\n",
        "# تنظیم فونت\n",
        "plt.rcParams['font.family'] = 'Times New Roman'\n",
        "plt.rcParams['font.size'] = 11\n",
        "\n",
        "# داده‌ها\n",
        "models = ['GLM', 'DNN', 'SVM']\n",
        "train_times = [3.45, 8.72, 14.32]\n",
        "\n",
        "# رسم نمودار\n",
        "plt.figure(figsize=(7, 4.5))\n",
        "bars = plt.bar(models, train_times, color='#f5b041')\n",
        "plt.ylabel(\"Training Time (s)\")\n",
        "plt.title(\"Training Time Comparison of Models\", fontsize=12)\n",
        "plt.ylim(0, 16)\n",
        "plt.grid(axis='y', linestyle='--', alpha=0.6)\n",
        "plt.tight_layout()\n",
        "\n",
        "# ذخیره یا نمایش\n",
        "plt.savefig(\"TrainingTime_Comparison.png\", dpi=300)\n",
        "plt.show()\n"
      ],
      "metadata": {
        "id": "J3Zs4uwC8Ihw"
      },
      "id": "J3Zs4uwC8Ihw",
      "execution_count": null,
      "outputs": []
    },
    {
      "cell_type": "code",
      "source": [
        "import matplotlib.pyplot as plt\n",
        "\n",
        "# تنظیم فونت\n",
        "plt.rcParams['font.family'] = 'Times New Roman'\n",
        "plt.rcParams['font.size'] = 11\n",
        "\n",
        "# داده‌ها\n",
        "models = ['GLM', 'DNN', 'SVM']\n",
        "train_times = [3.45, 8.72, 14.32]\n",
        "\n",
        "# رسم نمودار\n",
        "plt.figure(figsize=(7, 4.5))\n",
        "bars = plt.bar(models, train_times, color='#f5b041')\n",
        "plt.ylabel(\"Training Time (s)\")\n",
        "plt.title(\"Training Time Comparison of Models\", fontsize=12)\n",
        "plt.ylim(0, 16)\n",
        "plt.grid(axis='y', linestyle='--', alpha=0.6)\n",
        "plt.tight_layout()\n",
        "\n",
        "# ذخیره یا نمایش\n",
        "plt.savefig(\"TrainingTime_Comparison.png\", dpi=300)\n",
        "plt.show()\n"
      ],
      "metadata": {
        "id": "Qkg652eI8TsZ"
      },
      "id": "Qkg652eI8TsZ",
      "execution_count": null,
      "outputs": []
    },
    {
      "cell_type": "code",
      "source": [
        "import matplotlib.pyplot as plt\n",
        "# داده‌های توزیع کلاس (مثال شکل 7)\n",
        "classes = ['Negative (≤4)', 'Neutral (5–7)', 'Positive (≥8)']\n",
        "frequencies = [25000, 9000, 66000]\n",
        "\n",
        "# رسم نمودار میله‌ای\n",
        "plt.figure(figsize=(7.5, 5))\n",
        "plt.bar(classes, frequencies, color=['#e74c3c', '#f4d03f', '#27ae60'])\n",
        "plt.ylabel(\"Number of Reviews\")\n",
        "plt.title(\"Class Distribution After Label Mapping\", fontsize=12)\n",
        "plt.grid(axis='y', linestyle='--', alpha=0.6)\n",
        "plt.tight_layout()\n",
        "\n",
        "# ذخیره تصویر\n",
        "plt.savefig(\"/content/sample_data/Class_Distribution_BarChart.png\", dpi=300)\n",
        "plt.show()\n"
      ],
      "metadata": {
        "colab": {
          "base_uri": "https://localhost:8080/",
          "height": 1000
        },
        "id": "5wzUgzrV8YM9",
        "outputId": "54e2c123-9bb1-4494-d906-81f5958f8fa1"
      },
      "id": "5wzUgzrV8YM9",
      "execution_count": 7,
      "outputs": [
        {
          "output_type": "stream",
          "name": "stderr",
          "text": [
            "WARNING:matplotlib.font_manager:findfont: Font family 'Times New Roman' not found.\n",
            "WARNING:matplotlib.font_manager:findfont: Font family 'Times New Roman' not found.\n",
            "WARNING:matplotlib.font_manager:findfont: Font family 'Times New Roman' not found.\n",
            "WARNING:matplotlib.font_manager:findfont: Font family 'Times New Roman' not found.\n",
            "WARNING:matplotlib.font_manager:findfont: Font family 'Times New Roman' not found.\n",
            "WARNING:matplotlib.font_manager:findfont: Font family 'Times New Roman' not found.\n",
            "WARNING:matplotlib.font_manager:findfont: Font family 'Times New Roman' not found.\n",
            "WARNING:matplotlib.font_manager:findfont: Font family 'Times New Roman' not found.\n",
            "WARNING:matplotlib.font_manager:findfont: Font family 'Times New Roman' not found.\n",
            "WARNING:matplotlib.font_manager:findfont: Font family 'Times New Roman' not found.\n",
            "WARNING:matplotlib.font_manager:findfont: Font family 'Times New Roman' not found.\n",
            "WARNING:matplotlib.font_manager:findfont: Font family 'Times New Roman' not found.\n",
            "WARNING:matplotlib.font_manager:findfont: Font family 'Times New Roman' not found.\n",
            "WARNING:matplotlib.font_manager:findfont: Font family 'Times New Roman' not found.\n",
            "WARNING:matplotlib.font_manager:findfont: Font family 'Times New Roman' not found.\n",
            "WARNING:matplotlib.font_manager:findfont: Font family 'Times New Roman' not found.\n",
            "WARNING:matplotlib.font_manager:findfont: Font family 'Times New Roman' not found.\n",
            "WARNING:matplotlib.font_manager:findfont: Font family 'Times New Roman' not found.\n",
            "WARNING:matplotlib.font_manager:findfont: Font family 'Times New Roman' not found.\n",
            "WARNING:matplotlib.font_manager:findfont: Font family 'Times New Roman' not found.\n",
            "WARNING:matplotlib.font_manager:findfont: Font family 'Times New Roman' not found.\n",
            "WARNING:matplotlib.font_manager:findfont: Font family 'Times New Roman' not found.\n",
            "WARNING:matplotlib.font_manager:findfont: Font family 'Times New Roman' not found.\n",
            "WARNING:matplotlib.font_manager:findfont: Font family 'Times New Roman' not found.\n",
            "WARNING:matplotlib.font_manager:findfont: Font family 'Times New Roman' not found.\n",
            "WARNING:matplotlib.font_manager:findfont: Font family 'Times New Roman' not found.\n",
            "WARNING:matplotlib.font_manager:findfont: Font family 'Times New Roman' not found.\n",
            "WARNING:matplotlib.font_manager:findfont: Font family 'Times New Roman' not found.\n",
            "WARNING:matplotlib.font_manager:findfont: Font family 'Times New Roman' not found.\n",
            "WARNING:matplotlib.font_manager:findfont: Font family 'Times New Roman' not found.\n",
            "WARNING:matplotlib.font_manager:findfont: Font family 'Times New Roman' not found.\n",
            "WARNING:matplotlib.font_manager:findfont: Font family 'Times New Roman' not found.\n",
            "WARNING:matplotlib.font_manager:findfont: Font family 'Times New Roman' not found.\n",
            "WARNING:matplotlib.font_manager:findfont: Font family 'Times New Roman' not found.\n",
            "WARNING:matplotlib.font_manager:findfont: Font family 'Times New Roman' not found.\n",
            "WARNING:matplotlib.font_manager:findfont: Font family 'Times New Roman' not found.\n",
            "WARNING:matplotlib.font_manager:findfont: Font family 'Times New Roman' not found.\n",
            "WARNING:matplotlib.font_manager:findfont: Font family 'Times New Roman' not found.\n",
            "WARNING:matplotlib.font_manager:findfont: Font family 'Times New Roman' not found.\n",
            "WARNING:matplotlib.font_manager:findfont: Font family 'Times New Roman' not found.\n",
            "WARNING:matplotlib.font_manager:findfont: Font family 'Times New Roman' not found.\n",
            "WARNING:matplotlib.font_manager:findfont: Font family 'Times New Roman' not found.\n",
            "WARNING:matplotlib.font_manager:findfont: Font family 'Times New Roman' not found.\n",
            "WARNING:matplotlib.font_manager:findfont: Font family 'Times New Roman' not found.\n",
            "WARNING:matplotlib.font_manager:findfont: Font family 'Times New Roman' not found.\n",
            "WARNING:matplotlib.font_manager:findfont: Font family 'Times New Roman' not found.\n",
            "WARNING:matplotlib.font_manager:findfont: Font family 'Times New Roman' not found.\n",
            "WARNING:matplotlib.font_manager:findfont: Font family 'Times New Roman' not found.\n",
            "WARNING:matplotlib.font_manager:findfont: Font family 'Times New Roman' not found.\n",
            "WARNING:matplotlib.font_manager:findfont: Font family 'Times New Roman' not found.\n",
            "WARNING:matplotlib.font_manager:findfont: Font family 'Times New Roman' not found.\n",
            "WARNING:matplotlib.font_manager:findfont: Font family 'Times New Roman' not found.\n",
            "WARNING:matplotlib.font_manager:findfont: Font family 'Times New Roman' not found.\n",
            "WARNING:matplotlib.font_manager:findfont: Font family 'Times New Roman' not found.\n",
            "WARNING:matplotlib.font_manager:findfont: Font family 'Times New Roman' not found.\n",
            "WARNING:matplotlib.font_manager:findfont: Font family 'Times New Roman' not found.\n",
            "WARNING:matplotlib.font_manager:findfont: Font family 'Times New Roman' not found.\n",
            "WARNING:matplotlib.font_manager:findfont: Font family 'Times New Roman' not found.\n",
            "WARNING:matplotlib.font_manager:findfont: Font family 'Times New Roman' not found.\n",
            "WARNING:matplotlib.font_manager:findfont: Font family 'Times New Roman' not found.\n",
            "WARNING:matplotlib.font_manager:findfont: Font family 'Times New Roman' not found.\n",
            "WARNING:matplotlib.font_manager:findfont: Font family 'Times New Roman' not found.\n",
            "WARNING:matplotlib.font_manager:findfont: Font family 'Times New Roman' not found.\n",
            "WARNING:matplotlib.font_manager:findfont: Font family 'Times New Roman' not found.\n",
            "WARNING:matplotlib.font_manager:findfont: Font family 'Times New Roman' not found.\n",
            "WARNING:matplotlib.font_manager:findfont: Font family 'Times New Roman' not found.\n",
            "WARNING:matplotlib.font_manager:findfont: Font family 'Times New Roman' not found.\n",
            "WARNING:matplotlib.font_manager:findfont: Font family 'Times New Roman' not found.\n",
            "WARNING:matplotlib.font_manager:findfont: Font family 'Times New Roman' not found.\n",
            "WARNING:matplotlib.font_manager:findfont: Font family 'Times New Roman' not found.\n",
            "WARNING:matplotlib.font_manager:findfont: Font family 'Times New Roman' not found.\n",
            "WARNING:matplotlib.font_manager:findfont: Font family 'Times New Roman' not found.\n",
            "WARNING:matplotlib.font_manager:findfont: Font family 'Times New Roman' not found.\n",
            "WARNING:matplotlib.font_manager:findfont: Font family 'Times New Roman' not found.\n",
            "WARNING:matplotlib.font_manager:findfont: Font family 'Times New Roman' not found.\n",
            "WARNING:matplotlib.font_manager:findfont: Font family 'Times New Roman' not found.\n",
            "WARNING:matplotlib.font_manager:findfont: Font family 'Times New Roman' not found.\n",
            "WARNING:matplotlib.font_manager:findfont: Font family 'Times New Roman' not found.\n",
            "WARNING:matplotlib.font_manager:findfont: Font family 'Times New Roman' not found.\n",
            "WARNING:matplotlib.font_manager:findfont: Font family 'Times New Roman' not found.\n",
            "WARNING:matplotlib.font_manager:findfont: Font family 'Times New Roman' not found.\n",
            "WARNING:matplotlib.font_manager:findfont: Font family 'Times New Roman' not found.\n",
            "WARNING:matplotlib.font_manager:findfont: Font family 'Times New Roman' not found.\n",
            "WARNING:matplotlib.font_manager:findfont: Font family 'Times New Roman' not found.\n",
            "WARNING:matplotlib.font_manager:findfont: Font family 'Times New Roman' not found.\n",
            "WARNING:matplotlib.font_manager:findfont: Font family 'Times New Roman' not found.\n",
            "WARNING:matplotlib.font_manager:findfont: Font family 'Times New Roman' not found.\n",
            "WARNING:matplotlib.font_manager:findfont: Font family 'Times New Roman' not found.\n",
            "WARNING:matplotlib.font_manager:findfont: Font family 'Times New Roman' not found.\n",
            "WARNING:matplotlib.font_manager:findfont: Font family 'Times New Roman' not found.\n",
            "WARNING:matplotlib.font_manager:findfont: Font family 'Times New Roman' not found.\n",
            "WARNING:matplotlib.font_manager:findfont: Font family 'Times New Roman' not found.\n"
          ]
        },
        {
          "output_type": "display_data",
          "data": {
            "text/plain": [
              "<Figure size 750x500 with 1 Axes>"
            ],
            "image/png": "[encoded data removed]"
          },
          "metadata": {}
        }
      ]
    },
    {
      "cell_type": "code",
      "source": [
        "import matplotlib.pyplot as plt\n",
        "\n",
        "# تنظیم فونت\n",
        "plt.rcParams['font.family'] = 'Times New Roman'\n",
        "plt.rcParams['font.size'] = 11\n",
        "\n",
        "# داده‌های توزیع کلاس (مثال شکل 7)\n",
        "classes = ['Negative (≤4)', 'Neutral (5–7)', 'Positive (≥8)']\n",
        "frequencies = [25000, 9000, 66000]\n",
        "\n",
        "# رسم نمودار میله‌ای\n",
        "plt.figure(figsize=(7.5, 5))\n",
        "plt.bar(classes, frequencies, color=['#e74c3c', '#f4d03f', '#27ae60'])\n",
        "plt.ylabel(\"Number of Reviews\")\n",
        "plt.title(\"Class Distribution After Label Mapping\", fontsize=12)\n",
        "plt.grid(axis='y', linestyle='--', alpha=0.6)\n",
        "plt.tight_layout()\n",
        "\n",
        "# ذخیره تصویر\n",
        "plt.savefig(\"/mnt/data/Class_Distribution_BarChart.png\", dpi=300)\n",
        "plt.show()\n"
      ],
      "metadata": {
        "colab": {
          "base_uri": "https://localhost:8080/",
          "height": 1000
        },
        "id": "ScSA8Jse8grh",
        "outputId": "63283820-97ae-4245-ba11-7517ea48b2c5"
      },
      "id": "ScSA8Jse8grh",
      "execution_count": 3,
      "outputs": [
        {
          "output_type": "stream",
          "name": "stderr",
          "text": [
            "WARNING:matplotlib.font_manager:findfont: Font family 'Times New Roman' not found.\n",
            "WARNING:matplotlib.font_manager:findfont: Font family 'Times New Roman' not found.\n",
            "WARNING:matplotlib.font_manager:findfont: Font family 'Times New Roman' not found.\n",
            "WARNING:matplotlib.font_manager:findfont: Font family 'Times New Roman' not found.\n",
            "WARNING:matplotlib.font_manager:findfont: Font family 'Times New Roman' not found.\n",
            "WARNING:matplotlib.font_manager:findfont: Font family 'Times New Roman' not found.\n",
            "WARNING:matplotlib.font_manager:findfont: Font family 'Times New Roman' not found.\n",
            "WARNING:matplotlib.font_manager:findfont: Font family 'Times New Roman' not found.\n",
            "WARNING:matplotlib.font_manager:findfont: Font family 'Times New Roman' not found.\n",
            "WARNING:matplotlib.font_manager:findfont: Font family 'Times New Roman' not found.\n",
            "WARNING:matplotlib.font_manager:findfont: Font family 'Times New Roman' not found.\n",
            "WARNING:matplotlib.font_manager:findfont: Font family 'Times New Roman' not found.\n",
            "WARNING:matplotlib.font_manager:findfont: Font family 'Times New Roman' not found.\n",
            "WARNING:matplotlib.font_manager:findfont: Font family 'Times New Roman' not found.\n",
            "WARNING:matplotlib.font_manager:findfont: Font family 'Times New Roman' not found.\n",
            "WARNING:matplotlib.font_manager:findfont: Font family 'Times New Roman' not found.\n",
            "WARNING:matplotlib.font_manager:findfont: Font family 'Times New Roman' not found.\n",
            "WARNING:matplotlib.font_manager:findfont: Font family 'Times New Roman' not found.\n",
            "WARNING:matplotlib.font_manager:findfont: Font family 'Times New Roman' not found.\n",
            "WARNING:matplotlib.font_manager:findfont: Font family 'Times New Roman' not found.\n",
            "WARNING:matplotlib.font_manager:findfont: Font family 'Times New Roman' not found.\n",
            "WARNING:matplotlib.font_manager:findfont: Font family 'Times New Roman' not found.\n",
            "WARNING:matplotlib.font_manager:findfont: Font family 'Times New Roman' not found.\n",
            "WARNING:matplotlib.font_manager:findfont: Font family 'Times New Roman' not found.\n",
            "WARNING:matplotlib.font_manager:findfont: Font family 'Times New Roman' not found.\n",
            "WARNING:matplotlib.font_manager:findfont: Font family 'Times New Roman' not found.\n",
            "WARNING:matplotlib.font_manager:findfont: Font family 'Times New Roman' not found.\n",
            "WARNING:matplotlib.font_manager:findfont: Font family 'Times New Roman' not found.\n",
            "WARNING:matplotlib.font_manager:findfont: Font family 'Times New Roman' not found.\n",
            "WARNING:matplotlib.font_manager:findfont: Font family 'Times New Roman' not found.\n",
            "WARNING:matplotlib.font_manager:findfont: Font family 'Times New Roman' not found.\n",
            "WARNING:matplotlib.font_manager:findfont: Font family 'Times New Roman' not found.\n",
            "WARNING:matplotlib.font_manager:findfont: Font family 'Times New Roman' not found.\n",
            "WARNING:matplotlib.font_manager:findfont: Font family 'Times New Roman' not found.\n",
            "WARNING:matplotlib.font_manager:findfont: Font family 'Times New Roman' not found.\n",
            "WARNING:matplotlib.font_manager:findfont: Font family 'Times New Roman' not found.\n",
            "WARNING:matplotlib.font_manager:findfont: Font family 'Times New Roman' not found.\n",
            "WARNING:matplotlib.font_manager:findfont: Font family 'Times New Roman' not found.\n",
            "WARNING:matplotlib.font_manager:findfont: Font family 'Times New Roman' not found.\n",
            "WARNING:matplotlib.font_manager:findfont: Font family 'Times New Roman' not found.\n"
          ]
        },
        {
          "output_type": "error",
          "ename": "FileNotFoundError",
          "evalue": "[Errno 2] No such file or directory: '/mnt/data/Class_Distribution_BarChart.png'",
          "traceback": [
            "\u001b[0;31m---------------------------------------------------------------------------\u001b[0m",
            "\u001b[0;31mFileNotFoundError\u001b[0m                         Traceback (most recent call last)",
            "\u001b[0;32m<ipython-input-3-1636d726a1dd>\u001b[0m in \u001b[0;36m<cell line: 0>\u001b[0;34m()\u001b[0m\n\u001b[1;32m     18\u001b[0m \u001b[0;34m\u001b[0m\u001b[0m\n\u001b[1;32m     19\u001b[0m \u001b[0;31m# ذخیره تصویر\u001b[0m\u001b[0;34m\u001b[0m\u001b[0;34m\u001b[0m\u001b[0m\n\u001b[0;32m---> 20\u001b[0;31m \u001b[0mplt\u001b[0m\u001b[0;34m.\u001b[0m\u001b[0msavefig\u001b[0m\u001b[0;34m(\u001b[0m\u001b[0;34m\"/mnt/data/Class_Distribution_BarChart.png\"\u001b[0m\u001b[0;34m,\u001b[0m \u001b[0mdpi\u001b[0m\u001b[0;34m=\u001b[0m\u001b[0;36m300\u001b[0m\u001b[0;34m)\u001b[0m\u001b[0;34m\u001b[0m\u001b[0;34m\u001b[0m\u001b[0m\n\u001b[0m\u001b[1;32m     21\u001b[0m \u001b[0mplt\u001b[0m\u001b[0;34m.\u001b[0m\u001b[0mshow\u001b[0m\u001b[0;34m(\u001b[0m\u001b[0;34m)\u001b[0m\u001b[0;34m\u001b[0m\u001b[0;34m\u001b[0m\u001b[0m\n",
            "\u001b[0;32m/usr/local/lib/python3.11/dist-packages/matplotlib/pyplot.py\u001b[0m in \u001b[0;36msavefig\u001b[0;34m(*args, **kwargs)\u001b[0m\n\u001b[1;32m   1249\u001b[0m     \u001b[0;31m# savefig default implementation has no return, so mypy is unhappy\u001b[0m\u001b[0;34m\u001b[0m\u001b[0;34m\u001b[0m\u001b[0m\n\u001b[1;32m   1250\u001b[0m     \u001b[0;31m# presumably this is here because subclasses can return?\u001b[0m\u001b[0;34m\u001b[0m\u001b[0;34m\u001b[0m\u001b[0m\n\u001b[0;32m-> 1251\u001b[0;31m     \u001b[0mres\u001b[0m \u001b[0;34m=\u001b[0m \u001b[0mfig\u001b[0m\u001b[0;34m.\u001b[0m\u001b[0msavefig\u001b[0m\u001b[0;34m(\u001b[0m\u001b[0;34m*\u001b[0m\u001b[0margs\u001b[0m\u001b[0;34m,\u001b[0m \u001b[0;34m**\u001b[0m\u001b[0mkwargs\u001b[0m\u001b[0;34m)\u001b[0m  \u001b[0;31m# type: ignore[func-returns-value]\u001b[0m\u001b[0;34m\u001b[0m\u001b[0;34m\u001b[0m\u001b[0m\n\u001b[0m\u001b[1;32m   1252\u001b[0m     \u001b[0mfig\u001b[0m\u001b[0;34m.\u001b[0m\u001b[0mcanvas\u001b[0m\u001b[0;34m.\u001b[0m\u001b[0mdraw_idle\u001b[0m\u001b[0;34m(\u001b[0m\u001b[0;34m)\u001b[0m  \u001b[0;31m# Need this if 'transparent=True', to reset colors.\u001b[0m\u001b[0;34m\u001b[0m\u001b[0;34m\u001b[0m\u001b[0m\n\u001b[1;32m   1253\u001b[0m     \u001b[0;32mreturn\u001b[0m \u001b[0mres\u001b[0m\u001b[0;34m\u001b[0m\u001b[0;34m\u001b[0m\u001b[0m\n",
            "\u001b[0;32m/usr/local/lib/python3.11/dist-packages/matplotlib/figure.py\u001b[0m in \u001b[0;36msavefig\u001b[0;34m(self, fname, transparent, **kwargs)\u001b[0m\n\u001b[1;32m   3488\u001b[0m                 \u001b[0;32mfor\u001b[0m \u001b[0max\u001b[0m \u001b[0;32min\u001b[0m \u001b[0mself\u001b[0m\u001b[0;34m.\u001b[0m\u001b[0maxes\u001b[0m\u001b[0;34m:\u001b[0m\u001b[0;34m\u001b[0m\u001b[0;34m\u001b[0m\u001b[0m\n\u001b[1;32m   3489\u001b[0m                     \u001b[0m_recursively_make_axes_transparent\u001b[0m\u001b[0;34m(\u001b[0m\u001b[0mstack\u001b[0m\u001b[0;34m,\u001b[0m \u001b[0max\u001b[0m\u001b[0;34m)\u001b[0m\u001b[0;34m\u001b[0m\u001b[0;34m\u001b[0m\u001b[0m\n\u001b[0;32m-> 3490\u001b[0;31m             \u001b[0mself\u001b[0m\u001b[0;34m.\u001b[0m\u001b[0mcanvas\u001b[0m\u001b[0;34m.\u001b[0m\u001b[0mprint_figure\u001b[0m\u001b[0;34m(\u001b[0m\u001b[0mfname\u001b[0m\u001b[0;34m,\u001b[0m \u001b[0;34m**\u001b[0m\u001b[0mkwargs\u001b[0m\u001b[0;34m)\u001b[0m\u001b[0;34m\u001b[0m\u001b[0;34m\u001b[0m\u001b[0m\n\u001b[0m\u001b[1;32m   3491\u001b[0m \u001b[0;34m\u001b[0m\u001b[0m\n\u001b[1;32m   3492\u001b[0m     def ginput(self, n=1, timeout=30, show_clicks=True,\n",
            "\u001b[0;32m/usr/local/lib/python3.11/dist-packages/matplotlib/backend_bases.py\u001b[0m in \u001b[0;36mprint_figure\u001b[0;34m(self, filename, dpi, facecolor, edgecolor, orientation, format, bbox_inches, pad_inches, bbox_extra_artists, backend, **kwargs)\u001b[0m\n\u001b[1;32m   2182\u001b[0m                 \u001b[0;31m# force the figure dpi to 72), so we need to set it again here.\u001b[0m\u001b[0;34m\u001b[0m\u001b[0;34m\u001b[0m\u001b[0m\n\u001b[1;32m   2183\u001b[0m                 \u001b[0;32mwith\u001b[0m \u001b[0mcbook\u001b[0m\u001b[0;34m.\u001b[0m\u001b[0m_setattr_cm\u001b[0m\u001b[0;34m(\u001b[0m\u001b[0mself\u001b[0m\u001b[0;34m.\u001b[0m\u001b[0mfigure\u001b[0m\u001b[0;34m,\u001b[0m \u001b[0mdpi\u001b[0m\u001b[0;34m=\u001b[0m\u001b[0mdpi\u001b[0m\u001b[0;34m)\u001b[0m\u001b[0;34m:\u001b[0m\u001b[0;34m\u001b[0m\u001b[0;34m\u001b[0m\u001b[0m\n\u001b[0;32m-> 2184\u001b[0;31m                     result = print_method(\n\u001b[0m\u001b[1;32m   2185\u001b[0m                         \u001b[0mfilename\u001b[0m\u001b[0;34m,\u001b[0m\u001b[0;34m\u001b[0m\u001b[0;34m\u001b[0m\u001b[0m\n\u001b[1;32m   2186\u001b[0m                         \u001b[0mfacecolor\u001b[0m\u001b[0;34m=\u001b[0m\u001b[0mfacecolor\u001b[0m\u001b[0;34m,\u001b[0m\u001b[0;34m\u001b[0m\u001b[0;34m\u001b[0m\u001b[0m\n",
            "\u001b[0;32m/usr/local/lib/python3.11/dist-packages/matplotlib/backend_bases.py\u001b[0m in \u001b[0;36m<lambda>\u001b[0;34m(*args, **kwargs)\u001b[0m\n\u001b[1;32m   2038\u001b[0m                 \"bbox_inches_restore\"}\n\u001b[1;32m   2039\u001b[0m             \u001b[0mskip\u001b[0m \u001b[0;34m=\u001b[0m \u001b[0moptional_kws\u001b[0m \u001b[0;34m-\u001b[0m \u001b[0;34m{\u001b[0m\u001b[0;34m*\u001b[0m\u001b[0minspect\u001b[0m\u001b[0;34m.\u001b[0m\u001b[0msignature\u001b[0m\u001b[0;34m(\u001b[0m\u001b[0mmeth\u001b[0m\u001b[0;34m)\u001b[0m\u001b[0;34m.\u001b[0m\u001b[0mparameters\u001b[0m\u001b[0;34m}\u001b[0m\u001b[0;34m\u001b[0m\u001b[0;34m\u001b[0m\u001b[0m\n\u001b[0;32m-> 2040\u001b[0;31m             print_method = functools.wraps(meth)(lambda *args, **kwargs: meth(\n\u001b[0m\u001b[1;32m   2041\u001b[0m                 *args, **{k: v for k, v in kwargs.items() if k not in skip}))\n\u001b[1;32m   2042\u001b[0m         \u001b[0;32melse\u001b[0m\u001b[0;34m:\u001b[0m  \u001b[0;31m# Let third-parties do as they see fit.\u001b[0m\u001b[0;34m\u001b[0m\u001b[0;34m\u001b[0m\u001b[0m\n",
            "\u001b[0;32m/usr/local/lib/python3.11/dist-packages/matplotlib/backends/backend_agg.py\u001b[0m in \u001b[0;36mprint_png\u001b[0;34m(self, filename_or_obj, metadata, pil_kwargs)\u001b[0m\n\u001b[1;32m    479\u001b[0m             \u001b[0;34m*\u001b[0m\u001b[0mmetadata\u001b[0m\u001b[0;34m*\u001b[0m\u001b[0;34m,\u001b[0m \u001b[0mincluding\u001b[0m \u001b[0mthe\u001b[0m \u001b[0mdefault\u001b[0m \u001b[0;34m'Software'\u001b[0m \u001b[0mkey\u001b[0m\u001b[0;34m.\u001b[0m\u001b[0;34m\u001b[0m\u001b[0;34m\u001b[0m\u001b[0m\n\u001b[1;32m    480\u001b[0m         \"\"\"\n\u001b[0;32m--> 481\u001b[0;31m         \u001b[0mself\u001b[0m\u001b[0;34m.\u001b[0m\u001b[0m_print_pil\u001b[0m\u001b[0;34m(\u001b[0m\u001b[0mfilename_or_obj\u001b[0m\u001b[0;34m,\u001b[0m \u001b[0;34m\"png\"\u001b[0m\u001b[0;34m,\u001b[0m \u001b[0mpil_kwargs\u001b[0m\u001b[0;34m,\u001b[0m \u001b[0mmetadata\u001b[0m\u001b[0;34m)\u001b[0m\u001b[0;34m\u001b[0m\u001b[0;34m\u001b[0m\u001b[0m\n\u001b[0m\u001b[1;32m    482\u001b[0m \u001b[0;34m\u001b[0m\u001b[0m\n\u001b[1;32m    483\u001b[0m     \u001b[0;32mdef\u001b[0m \u001b[0mprint_to_buffer\u001b[0m\u001b[0;34m(\u001b[0m\u001b[0mself\u001b[0m\u001b[0;34m)\u001b[0m\u001b[0;34m:\u001b[0m\u001b[0;34m\u001b[0m\u001b[0;34m\u001b[0m\u001b[0m\n",
            "\u001b[0;32m/usr/local/lib/python3.11/dist-packages/matplotlib/backends/backend_agg.py\u001b[0m in \u001b[0;36m_print_pil\u001b[0;34m(self, filename_or_obj, fmt, pil_kwargs, metadata)\u001b[0m\n\u001b[1;32m    428\u001b[0m         \"\"\"\n\u001b[1;32m    429\u001b[0m         \u001b[0mFigureCanvasAgg\u001b[0m\u001b[0;34m.\u001b[0m\u001b[0mdraw\u001b[0m\u001b[0;34m(\u001b[0m\u001b[0mself\u001b[0m\u001b[0;34m)\u001b[0m\u001b[0;34m\u001b[0m\u001b[0;34m\u001b[0m\u001b[0m\n\u001b[0;32m--> 430\u001b[0;31m         mpl.image.imsave(\n\u001b[0m\u001b[1;32m    431\u001b[0m             \u001b[0mfilename_or_obj\u001b[0m\u001b[0;34m,\u001b[0m \u001b[0mself\u001b[0m\u001b[0;34m.\u001b[0m\u001b[0mbuffer_rgba\u001b[0m\u001b[0;34m(\u001b[0m\u001b[0;34m)\u001b[0m\u001b[0;34m,\u001b[0m \u001b[0mformat\u001b[0m\u001b[0;34m=\u001b[0m\u001b[0mfmt\u001b[0m\u001b[0;34m,\u001b[0m \u001b[0morigin\u001b[0m\u001b[0;34m=\u001b[0m\u001b[0;34m\"upper\"\u001b[0m\u001b[0;34m,\u001b[0m\u001b[0;34m\u001b[0m\u001b[0;34m\u001b[0m\u001b[0m\n\u001b[1;32m    432\u001b[0m             dpi=self.figure.dpi, metadata=metadata, pil_kwargs=pil_kwargs)\n",
            "\u001b[0;32m/usr/local/lib/python3.11/dist-packages/matplotlib/image.py\u001b[0m in \u001b[0;36mimsave\u001b[0;34m(fname, arr, vmin, vmax, cmap, format, origin, dpi, metadata, pil_kwargs)\u001b[0m\n\u001b[1;32m   1655\u001b[0m         \u001b[0mpil_kwargs\u001b[0m\u001b[0;34m.\u001b[0m\u001b[0msetdefault\u001b[0m\u001b[0;34m(\u001b[0m\u001b[0;34m\"format\"\u001b[0m\u001b[0;34m,\u001b[0m \u001b[0mformat\u001b[0m\u001b[0;34m)\u001b[0m\u001b[0;34m\u001b[0m\u001b[0;34m\u001b[0m\u001b[0m\n\u001b[1;32m   1656\u001b[0m         \u001b[0mpil_kwargs\u001b[0m\u001b[0;34m.\u001b[0m\u001b[0msetdefault\u001b[0m\u001b[0;34m(\u001b[0m\u001b[0;34m\"dpi\"\u001b[0m\u001b[0;34m,\u001b[0m \u001b[0;34m(\u001b[0m\u001b[0mdpi\u001b[0m\u001b[0;34m,\u001b[0m \u001b[0mdpi\u001b[0m\u001b[0;34m)\u001b[0m\u001b[0;34m)\u001b[0m\u001b[0;34m\u001b[0m\u001b[0;34m\u001b[0m\u001b[0m\n\u001b[0;32m-> 1657\u001b[0;31m         \u001b[0mimage\u001b[0m\u001b[0;34m.\u001b[0m\u001b[0msave\u001b[0m\u001b[0;34m(\u001b[0m\u001b[0mfname\u001b[0m\u001b[0;34m,\u001b[0m \u001b[0;34m**\u001b[0m\u001b[0mpil_kwargs\u001b[0m\u001b[0;34m)\u001b[0m\u001b[0;34m\u001b[0m\u001b[0;34m\u001b[0m\u001b[0m\n\u001b[0m\u001b[1;32m   1658\u001b[0m \u001b[0;34m\u001b[0m\u001b[0m\n\u001b[1;32m   1659\u001b[0m \u001b[0;34m\u001b[0m\u001b[0m\n",
            "\u001b[0;32m/usr/local/lib/python3.11/dist-packages/PIL/Image.py\u001b[0m in \u001b[0;36msave\u001b[0;34m(self, fp, format, **params)\u001b[0m\n\u001b[1;32m   2574\u001b[0m                 \u001b[0mfp\u001b[0m \u001b[0;34m=\u001b[0m \u001b[0mbuiltins\u001b[0m\u001b[0;34m.\u001b[0m\u001b[0mopen\u001b[0m\u001b[0;34m(\u001b[0m\u001b[0mfilename\u001b[0m\u001b[0;34m,\u001b[0m \u001b[0;34m\"r+b\"\u001b[0m\u001b[0;34m)\u001b[0m\u001b[0;34m\u001b[0m\u001b[0;34m\u001b[0m\u001b[0m\n\u001b[1;32m   2575\u001b[0m             \u001b[0;32melse\u001b[0m\u001b[0;34m:\u001b[0m\u001b[0;34m\u001b[0m\u001b[0;34m\u001b[0m\u001b[0m\n\u001b[0;32m-> 2576\u001b[0;31m                 \u001b[0mfp\u001b[0m \u001b[0;34m=\u001b[0m \u001b[0mbuiltins\u001b[0m\u001b[0;34m.\u001b[0m\u001b[0mopen\u001b[0m\u001b[0;34m(\u001b[0m\u001b[0mfilename\u001b[0m\u001b[0;34m,\u001b[0m \u001b[0;34m\"w+b\"\u001b[0m\u001b[0;34m)\u001b[0m\u001b[0;34m\u001b[0m\u001b[0;34m\u001b[0m\u001b[0m\n\u001b[0m\u001b[1;32m   2577\u001b[0m         \u001b[0;32melse\u001b[0m\u001b[0;34m:\u001b[0m\u001b[0;34m\u001b[0m\u001b[0;34m\u001b[0m\u001b[0m\n\u001b[1;32m   2578\u001b[0m             \u001b[0mfp\u001b[0m \u001b[0;34m=\u001b[0m \u001b[0mcast\u001b[0m\u001b[0;34m(\u001b[0m\u001b[0mIO\u001b[0m\u001b[0;34m[\u001b[0m\u001b[0mbytes\u001b[0m\u001b[0;34m]\u001b[0m\u001b[0;34m,\u001b[0m \u001b[0mfp\u001b[0m\u001b[0;34m)\u001b[0m\u001b[0;34m\u001b[0m\u001b[0;34m\u001b[0m\u001b[0m\n",
            "\u001b[0;31mFileNotFoundError\u001b[0m: [Errno 2] No such file or directory: '/mnt/data/Class_Distribution_BarChart.png'"
          ]
        },
        {
          "output_type": "stream",
          "name": "stderr",
          "text": [
            "WARNING:matplotlib.font_manager:findfont: Font family 'Times New Roman' not found.\n",
            "WARNING:matplotlib.font_manager:findfont: Font family 'Times New Roman' not found.\n",
            "WARNING:matplotlib.font_manager:findfont: Font family 'Times New Roman' not found.\n",
            "WARNING:matplotlib.font_manager:findfont: Font family 'Times New Roman' not found.\n",
            "WARNING:matplotlib.font_manager:findfont: Font family 'Times New Roman' not found.\n",
            "WARNING:matplotlib.font_manager:findfont: Font family 'Times New Roman' not found.\n",
            "WARNING:matplotlib.font_manager:findfont: Font family 'Times New Roman' not found.\n",
            "WARNING:matplotlib.font_manager:findfont: Font family 'Times New Roman' not found.\n",
            "WARNING:matplotlib.font_manager:findfont: Font family 'Times New Roman' not found.\n",
            "WARNING:matplotlib.font_manager:findfont: Font family 'Times New Roman' not found.\n",
            "WARNING:matplotlib.font_manager:findfont: Font family 'Times New Roman' not found.\n",
            "WARNING:matplotlib.font_manager:findfont: Font family 'Times New Roman' not found.\n",
            "WARNING:matplotlib.font_manager:findfont: Font family 'Times New Roman' not found.\n",
            "WARNING:matplotlib.font_manager:findfont: Font family 'Times New Roman' not found.\n",
            "WARNING:matplotlib.font_manager:findfont: Font family 'Times New Roman' not found.\n",
            "WARNING:matplotlib.font_manager:findfont: Font family 'Times New Roman' not found.\n",
            "WARNING:matplotlib.font_manager:findfont: Font family 'Times New Roman' not found.\n",
            "WARNING:matplotlib.font_manager:findfont: Font family 'Times New Roman' not found.\n",
            "WARNING:matplotlib.font_manager:findfont: Font family 'Times New Roman' not found.\n",
            "WARNING:matplotlib.font_manager:findfont: Font family 'Times New Roman' not found.\n",
            "WARNING:matplotlib.font_manager:findfont: Font family 'Times New Roman' not found.\n",
            "WARNING:matplotlib.font_manager:findfont: Font family 'Times New Roman' not found.\n",
            "WARNING:matplotlib.font_manager:findfont: Font family 'Times New Roman' not found.\n",
            "WARNING:matplotlib.font_manager:findfont: Font family 'Times New Roman' not found.\n",
            "WARNING:matplotlib.font_manager:findfont: Font family 'Times New Roman' not found.\n",
            "WARNING:matplotlib.font_manager:findfont: Font family 'Times New Roman' not found.\n",
            "WARNING:matplotlib.font_manager:findfont: Font family 'Times New Roman' not found.\n",
            "WARNING:matplotlib.font_manager:findfont: Font family 'Times New Roman' not found.\n",
            "WARNING:matplotlib.font_manager:findfont: Font family 'Times New Roman' not found.\n",
            "WARNING:matplotlib.font_manager:findfont: Font family 'Times New Roman' not found.\n",
            "WARNING:matplotlib.font_manager:findfont: Font family 'Times New Roman' not found.\n",
            "WARNING:matplotlib.font_manager:findfont: Font family 'Times New Roman' not found.\n",
            "WARNING:matplotlib.font_manager:findfont: Font family 'Times New Roman' not found.\n",
            "WARNING:matplotlib.font_manager:findfont: Font family 'Times New Roman' not found.\n",
            "WARNING:matplotlib.font_manager:findfont: Font family 'Times New Roman' not found.\n",
            "WARNING:matplotlib.font_manager:findfont: Font family 'Times New Roman' not found.\n",
            "WARNING:matplotlib.font_manager:findfont: Font family 'Times New Roman' not found.\n",
            "WARNING:matplotlib.font_manager:findfont: Font family 'Times New Roman' not found.\n",
            "WARNING:matplotlib.font_manager:findfont: Font family 'Times New Roman' not found.\n",
            "WARNING:matplotlib.font_manager:findfont: Font family 'Times New Roman' not found.\n",
            "WARNING:matplotlib.font_manager:findfont: Font family 'Times New Roman' not found.\n",
            "WARNING:matplotlib.font_manager:findfont: Font family 'Times New Roman' not found.\n",
            "WARNING:matplotlib.font_manager:findfont: Font family 'Times New Roman' not found.\n",
            "WARNING:matplotlib.font_manager:findfont: Font family 'Times New Roman' not found.\n",
            "WARNING:matplotlib.font_manager:findfont: Font family 'Times New Roman' not found.\n",
            "WARNING:matplotlib.font_manager:findfont: Font family 'Times New Roman' not found.\n",
            "WARNING:matplotlib.font_manager:findfont: Font family 'Times New Roman' not found.\n",
            "WARNING:matplotlib.font_manager:findfont: Font family 'Times New Roman' not found.\n",
            "WARNING:matplotlib.font_manager:findfont: Font family 'Times New Roman' not found.\n",
            "WARNING:matplotlib.font_manager:findfont: Font family 'Times New Roman' not found.\n",
            "WARNING:matplotlib.font_manager:findfont: Font family 'Times New Roman' not found.\n",
            "WARNING:matplotlib.font_manager:findfont: Font family 'Times New Roman' not found.\n"
          ]
        },
        {
          "output_type": "display_data",
          "data": {
            "text/plain": [
              "<Figure size 750x500 with 1 Axes>"
            ],
            "image/png": "[encoded data removed]"
          },
          "metadata": {}
        }
      ]
    },
    {
      "cell_type": "markdown",
      "source": [
        "کد اجرای شکل 8 – Raw Ratings Histogram"
      ],
      "metadata": {
        "id": "kqcVPqKw8tRt"
      },
      "id": "kqcVPqKw8tRt"
    },
    {
      "cell_type": "code",
      "source": [
        "import matplotlib.pyplot as plt\n",
        "\n",
        "# تنظیم فونت\n",
        "plt.rcParams['font.family'] = 'Times New Roman'\n",
        "plt.rcParams['font.size'] = 11\n",
        "\n",
        "# داده‌های فرضی امتیازات (برای نمونه، تو باید از df['Rating'] استفاده کنی)\n",
        "import numpy as np\n",
        "np.random.seed(42)\n",
        "ratings = np.concatenate([\n",
        "    np.random.normal(loc=9, scale=0.5, size=50000),   # کاربران راضی\n",
        "    np.random.normal(loc=7, scale=0.5, size=20000),   # کاربران متوسط\n",
        "    np.random.normal(loc=3, scale=0.8, size=5000)     # کاربران ناراضی\n",
        "])\n",
        "ratings = np.clip(ratings, 1, 10)  # محدود کردن به 1 تا 10\n",
        "\n",
        "# رسم هیستوگرام\n",
        "plt.figure(figsize=(8, 5))\n",
        "plt.hist(ratings, bins=10, range=(1, 10), color='#5dade2', edgecolor='black')\n",
        "plt.xlabel(\"Rating Score (1–10)\")\n",
        "plt.ylabel(\"Number of Reviews\")\n",
        "plt.title(\"Histogram of Raw Ratings\", fontsize=12)\n",
        "plt.grid(axis='y', linestyle='--', alpha=0.6)\n",
        "plt.tight_layout()\n",
        "plt.savefig(\"RawRatings_Histogram.png\", dpi=300)\n",
        "plt.show()\n"
      ],
      "metadata": {
        "colab": {
          "base_uri": "https://localhost:8080/",
          "height": 1000
        },
        "id": "nNAnMwBl8vIv",
        "outputId": "3475d877-0d86-4641-ec89-80c07e8ec137"
      },
      "id": "nNAnMwBl8vIv",
      "execution_count": 4,
      "outputs": [
        {
          "output_type": "stream",
          "name": "stderr",
          "text": [
            "WARNING:matplotlib.font_manager:findfont: Font family 'Times New Roman' not found.\n",
            "WARNING:matplotlib.font_manager:findfont: Font family 'Times New Roman' not found.\n",
            "WARNING:matplotlib.font_manager:findfont: Font family 'Times New Roman' not found.\n",
            "WARNING:matplotlib.font_manager:findfont: Font family 'Times New Roman' not found.\n",
            "WARNING:matplotlib.font_manager:findfont: Font family 'Times New Roman' not found.\n",
            "WARNING:matplotlib.font_manager:findfont: Font family 'Times New Roman' not found.\n",
            "WARNING:matplotlib.font_manager:findfont: Font family 'Times New Roman' not found.\n",
            "WARNING:matplotlib.font_manager:findfont: Font family 'Times New Roman' not found.\n",
            "WARNING:matplotlib.font_manager:findfont: Font family 'Times New Roman' not found.\n",
            "WARNING:matplotlib.font_manager:findfont: Font family 'Times New Roman' not found.\n",
            "WARNING:matplotlib.font_manager:findfont: Font family 'Times New Roman' not found.\n",
            "WARNING:matplotlib.font_manager:findfont: Font family 'Times New Roman' not found.\n",
            "WARNING:matplotlib.font_manager:findfont: Font family 'Times New Roman' not found.\n",
            "WARNING:matplotlib.font_manager:findfont: Font family 'Times New Roman' not found.\n",
            "WARNING:matplotlib.font_manager:findfont: Font family 'Times New Roman' not found.\n",
            "WARNING:matplotlib.font_manager:findfont: Font family 'Times New Roman' not found.\n",
            "WARNING:matplotlib.font_manager:findfont: Font family 'Times New Roman' not found.\n",
            "WARNING:matplotlib.font_manager:findfont: Font family 'Times New Roman' not found.\n",
            "WARNING:matplotlib.font_manager:findfont: Font family 'Times New Roman' not found.\n",
            "WARNING:matplotlib.font_manager:findfont: Font family 'Times New Roman' not found.\n",
            "WARNING:matplotlib.font_manager:findfont: Font family 'Times New Roman' not found.\n",
            "WARNING:matplotlib.font_manager:findfont: Font family 'Times New Roman' not found.\n",
            "WARNING:matplotlib.font_manager:findfont: Font family 'Times New Roman' not found.\n",
            "WARNING:matplotlib.font_manager:findfont: Font family 'Times New Roman' not found.\n",
            "WARNING:matplotlib.font_manager:findfont: Font family 'Times New Roman' not found.\n",
            "WARNING:matplotlib.font_manager:findfont: Font family 'Times New Roman' not found.\n",
            "WARNING:matplotlib.font_manager:findfont: Font family 'Times New Roman' not found.\n",
            "WARNING:matplotlib.font_manager:findfont: Font family 'Times New Roman' not found.\n",
            "WARNING:matplotlib.font_manager:findfont: Font family 'Times New Roman' not found.\n",
            "WARNING:matplotlib.font_manager:findfont: Font family 'Times New Roman' not found.\n",
            "WARNING:matplotlib.font_manager:findfont: Font family 'Times New Roman' not found.\n",
            "WARNING:matplotlib.font_manager:findfont: Font family 'Times New Roman' not found.\n",
            "WARNING:matplotlib.font_manager:findfont: Font family 'Times New Roman' not found.\n",
            "WARNING:matplotlib.font_manager:findfont: Font family 'Times New Roman' not found.\n",
            "WARNING:matplotlib.font_manager:findfont: Font family 'Times New Roman' not found.\n",
            "WARNING:matplotlib.font_manager:findfont: Font family 'Times New Roman' not found.\n",
            "WARNING:matplotlib.font_manager:findfont: Font family 'Times New Roman' not found.\n",
            "WARNING:matplotlib.font_manager:findfont: Font family 'Times New Roman' not found.\n",
            "WARNING:matplotlib.font_manager:findfont: Font family 'Times New Roman' not found.\n",
            "WARNING:matplotlib.font_manager:findfont: Font family 'Times New Roman' not found.\n",
            "WARNING:matplotlib.font_manager:findfont: Font family 'Times New Roman' not found.\n",
            "WARNING:matplotlib.font_manager:findfont: Font family 'Times New Roman' not found.\n",
            "WARNING:matplotlib.font_manager:findfont: Font family 'Times New Roman' not found.\n",
            "WARNING:matplotlib.font_manager:findfont: Font family 'Times New Roman' not found.\n",
            "WARNING:matplotlib.font_manager:findfont: Font family 'Times New Roman' not found.\n",
            "WARNING:matplotlib.font_manager:findfont: Font family 'Times New Roman' not found.\n",
            "WARNING:matplotlib.font_manager:findfont: Font family 'Times New Roman' not found.\n",
            "WARNING:matplotlib.font_manager:findfont: Font family 'Times New Roman' not found.\n",
            "WARNING:matplotlib.font_manager:findfont: Font family 'Times New Roman' not found.\n",
            "WARNING:matplotlib.font_manager:findfont: Font family 'Times New Roman' not found.\n",
            "WARNING:matplotlib.font_manager:findfont: Font family 'Times New Roman' not found.\n",
            "WARNING:matplotlib.font_manager:findfont: Font family 'Times New Roman' not found.\n",
            "WARNING:matplotlib.font_manager:findfont: Font family 'Times New Roman' not found.\n",
            "WARNING:matplotlib.font_manager:findfont: Font family 'Times New Roman' not found.\n",
            "WARNING:matplotlib.font_manager:findfont: Font family 'Times New Roman' not found.\n",
            "WARNING:matplotlib.font_manager:findfont: Font family 'Times New Roman' not found.\n",
            "WARNING:matplotlib.font_manager:findfont: Font family 'Times New Roman' not found.\n",
            "WARNING:matplotlib.font_manager:findfont: Font family 'Times New Roman' not found.\n",
            "WARNING:matplotlib.font_manager:findfont: Font family 'Times New Roman' not found.\n",
            "WARNING:matplotlib.font_manager:findfont: Font family 'Times New Roman' not found.\n",
            "WARNING:matplotlib.font_manager:findfont: Font family 'Times New Roman' not found.\n",
            "WARNING:matplotlib.font_manager:findfont: Font family 'Times New Roman' not found.\n",
            "WARNING:matplotlib.font_manager:findfont: Font family 'Times New Roman' not found.\n",
            "WARNING:matplotlib.font_manager:findfont: Font family 'Times New Roman' not found.\n",
            "WARNING:matplotlib.font_manager:findfont: Font family 'Times New Roman' not found.\n",
            "WARNING:matplotlib.font_manager:findfont: Font family 'Times New Roman' not found.\n",
            "WARNING:matplotlib.font_manager:findfont: Font family 'Times New Roman' not found.\n",
            "WARNING:matplotlib.font_manager:findfont: Font family 'Times New Roman' not found.\n",
            "WARNING:matplotlib.font_manager:findfont: Font family 'Times New Roman' not found.\n",
            "WARNING:matplotlib.font_manager:findfont: Font family 'Times New Roman' not found.\n",
            "WARNING:matplotlib.font_manager:findfont: Font family 'Times New Roman' not found.\n",
            "WARNING:matplotlib.font_manager:findfont: Font family 'Times New Roman' not found.\n",
            "WARNING:matplotlib.font_manager:findfont: Font family 'Times New Roman' not found.\n",
            "WARNING:matplotlib.font_manager:findfont: Font family 'Times New Roman' not found.\n",
            "WARNING:matplotlib.font_manager:findfont: Font family 'Times New Roman' not found.\n",
            "WARNING:matplotlib.font_manager:findfont: Font family 'Times New Roman' not found.\n",
            "WARNING:matplotlib.font_manager:findfont: Font family 'Times New Roman' not found.\n",
            "WARNING:matplotlib.font_manager:findfont: Font family 'Times New Roman' not found.\n",
            "WARNING:matplotlib.font_manager:findfont: Font family 'Times New Roman' not found.\n",
            "WARNING:matplotlib.font_manager:findfont: Font family 'Times New Roman' not found.\n",
            "WARNING:matplotlib.font_manager:findfont: Font family 'Times New Roman' not found.\n",
            "WARNING:matplotlib.font_manager:findfont: Font family 'Times New Roman' not found.\n",
            "WARNING:matplotlib.font_manager:findfont: Font family 'Times New Roman' not found.\n",
            "WARNING:matplotlib.font_manager:findfont: Font family 'Times New Roman' not found.\n",
            "WARNING:matplotlib.font_manager:findfont: Font family 'Times New Roman' not found.\n",
            "WARNING:matplotlib.font_manager:findfont: Font family 'Times New Roman' not found.\n",
            "WARNING:matplotlib.font_manager:findfont: Font family 'Times New Roman' not found.\n",
            "WARNING:matplotlib.font_manager:findfont: Font family 'Times New Roman' not found.\n",
            "WARNING:matplotlib.font_manager:findfont: Font family 'Times New Roman' not found.\n",
            "WARNING:matplotlib.font_manager:findfont: Font family 'Times New Roman' not found.\n",
            "WARNING:matplotlib.font_manager:findfont: Font family 'Times New Roman' not found.\n",
            "WARNING:matplotlib.font_manager:findfont: Font family 'Times New Roman' not found.\n",
            "WARNING:matplotlib.font_manager:findfont: Font family 'Times New Roman' not found.\n",
            "WARNING:matplotlib.font_manager:findfont: Font family 'Times New Roman' not found.\n",
            "WARNING:matplotlib.font_manager:findfont: Font family 'Times New Roman' not found.\n",
            "WARNING:matplotlib.font_manager:findfont: Font family 'Times New Roman' not found.\n",
            "WARNING:matplotlib.font_manager:findfont: Font family 'Times New Roman' not found.\n",
            "WARNING:matplotlib.font_manager:findfont: Font family 'Times New Roman' not found.\n",
            "WARNING:matplotlib.font_manager:findfont: Font family 'Times New Roman' not found.\n",
            "WARNING:matplotlib.font_manager:findfont: Font family 'Times New Roman' not found.\n",
            "WARNING:matplotlib.font_manager:findfont: Font family 'Times New Roman' not found.\n",
            "WARNING:matplotlib.font_manager:findfont: Font family 'Times New Roman' not found.\n",
            "WARNING:matplotlib.font_manager:findfont: Font family 'Times New Roman' not found.\n",
            "WARNING:matplotlib.font_manager:findfont: Font family 'Times New Roman' not found.\n",
            "WARNING:matplotlib.font_manager:findfont: Font family 'Times New Roman' not found.\n",
            "WARNING:matplotlib.font_manager:findfont: Font family 'Times New Roman' not found.\n"
          ]
        },
        {
          "output_type": "display_data",
          "data": {
            "text/plain": [
              "<Figure size 800x500 with 1 Axes>"
            ],
            "image/png": "[encoded data removed]"
          },
          "metadata": {}
        }
      ]
    }
  ],
  "metadata": {
    "colab": {
      "provenance": [],
      "include_colab_link": true
    },
    "kernelspec": {
      "display_name": "Python 3",
      "name": "python3"
    },
    "language_info": {
      "name": "python"
    }
  },
  "nbformat": 4,
  "nbformat_minor": 5
}
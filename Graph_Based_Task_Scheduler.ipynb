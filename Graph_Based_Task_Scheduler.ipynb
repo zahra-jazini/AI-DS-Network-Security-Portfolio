{
  "nbformat": 4,
  "nbformat_minor": 0,
  "metadata": {
    "colab": {
      "provenance": [],
      "authorship_tag": "ABX9TyOgFe0L8xP2qZArw6+kxdH+",
      "include_colab_link": true
    },
    "kernelspec": {
      "name": "python3",
      "display_name": "Python 3"
    },
    "language_info": {
      "name": "python"
    }
  },
  "cells": [
    {
      "cell_type": "markdown",
      "metadata": {
        "id": "view-in-github",
        "colab_type": "text"
      },
      "source": [
        "<a href=\"https://colab.research.google.com/github/zahra-jazini/AI-DS-Network-Security-Portfolio/blob/main/Graph_Based_Task_Scheduler.ipynb\" target=\"_parent\"><img src=\"https://colab.research.google.com/assets/colab-badge.svg\" alt=\"Open In Colab\"/></a>"
      ]
    },
    {
      "cell_type": "markdown",
      "source": [
        "پروژه : [Task Scheduler با گراف جهت‌دار و مرتب‌سازی توپولوژیک]"
      ],
      "metadata": {
        "id": "OOOBi1nQSqlu"
      }
    },
    {
      "cell_type": "markdown",
      "source": [
        "# 📌 Graph-Based Task Scheduler using DAG (Topological Sorting)\n",
        "\n",
        "This project simulates a basic task scheduling system using Directed Acyclic Graphs (DAGs). Each node is a task with specific dependencies. We use topological sorting to determine a valid execution order.\n",
        "\n",
        "---\n"
      ],
      "metadata": {
        "id": "MqtpkzQuSx11"
      }
    },
    {
      "cell_type": "code",
      "source": [
        "# ✅ Install and import required libraries\n",
        "!pip install networkx matplotlib --quiet\n",
        "\n",
        "import networkx as nx\n",
        "import matplotlib.pyplot as plt\n"
      ],
      "metadata": {
        "id": "kHmv6In6S0SN"
      },
      "execution_count": 11,
      "outputs": []
    },
    {
      "cell_type": "code",
      "source": [
        "# ✅ Define tasks and dependencies\n",
        "G = nx.DiGraph()\n",
        "tasks = ['A', 'B', 'C', 'D', 'E']\n",
        "dependencies = [('A', 'B'), ('A', 'C'), ('B', 'D'), ('C', 'D'), ('D', 'E')]\n",
        "\n",
        "G.add_nodes_from(tasks)\n",
        "G.add_edges_from(dependencies)"
      ],
      "metadata": {
        "id": "-spRc_1wS4mN"
      },
      "execution_count": 12,
      "outputs": []
    },
    {
      "cell_type": "code",
      "source": [
        "# ✅ Perform topological sorting\n",
        "topo_order = list(nx.topological_sort(G))\n",
        "print(\"🔁 Topological Order of Tasks:\", topo_order)"
      ],
      "metadata": {
        "colab": {
          "base_uri": "https://localhost:8080/"
        },
        "id": "-Vw_7dFdS9hk",
        "outputId": "12161c51-b259-44c8-d6aa-855fcaceb19c"
      },
      "execution_count": 13,
      "outputs": [
        {
          "output_type": "stream",
          "name": "stdout",
          "text": [
            "🔁 Topological Order of Tasks: ['A', 'B', 'C', 'D', 'E']\n"
          ]
        }
      ]
    },
    {
      "cell_type": "code",
      "source": [
        "# ✅ Draw the graph\n",
        "plt.figure(figsize=(8, 5))\n",
        "pos = nx.spring_layout(G, seed=42)\n",
        "nx.draw(G, pos, with_labels=True, node_size=1200, node_color='skyblue',\n",
        "        font_weight='bold', arrows=True)\n",
        "plt.title(\"📊 Task Dependency Graph (DAG)\")\n",
        "plt.savefig(\"sample_output.png\")\n",
        "plt.show()"
      ],
      "metadata": {
        "colab": {
          "base_uri": "https://localhost:8080/"
        },
        "id": "q1tI7NRqTCOV",
        "outputId": "ccf27b2f-9fb6-449c-8717-768a2ef02a82"
      },
      "execution_count": 16,
      "outputs": [
        {
          "output_type": "stream",
          "name": "stderr",
          "text": [
            "<ipython-input-16-542447cb6fed>:7: UserWarning: Glyph 128202 (\\N{BAR CHART}) missing from font(s) DejaVu Sans.\n",
            "  plt.savefig(\"sample_output.png\")\n"
          ]
        }
      ]
    }
  ]
}